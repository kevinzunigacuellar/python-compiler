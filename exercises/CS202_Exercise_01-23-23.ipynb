{
 "cells": [
  {
   "cell_type": "markdown",
   "metadata": {},
   "source": [
    "# CS202: Compiler Construction\n",
    "\n",
    "## In-class Exercises, Week of 01/23/2023"
   ]
  },
  {
   "cell_type": "markdown",
   "metadata": {},
   "source": [
    "----"
   ]
  },
  {
   "cell_type": "markdown",
   "metadata": {},
   "source": [
    "# Part 1: Lvar"
   ]
  },
  {
   "cell_type": "markdown",
   "metadata": {},
   "source": [
    "## Question 1\n",
    "\n",
    "Write an interpreter `eval_lvar` for the `Lvar` language. Reference the grammar: Figure 2.2 (page 14) in the textbook, and our simplified AST in the [Assignment 2 Description](https://github.com/jnear/cs202-compiler-construction/blob/master/homework/hw2.md)."
   ]
  },
  {
   "cell_type": "code",
   "execution_count": 1,
   "metadata": {},
   "outputs": [],
   "source": [
    "from typing import Dict\n",
    "from cs202_support.python import *\n",
    "\n",
    "# op ::= \"add\"\n",
    "# Stmt ::= Assign(x, Expr) | Print(Expr)\n",
    "# Expr ::= Var(x) | Constant(n) | Prim(op, [Expr])\n",
    "# LVar ::= Program([Stmt])\n",
    "\n",
    "\"\"\"\n",
    "Interpreter: function that takes a program and evaluates it\n",
    "Compiler: function that takes a program and returns a new program\n",
    "\"\"\"\n",
    "\n",
    "def eval_lvar(program: Program):\n",
    "    def eval_stmt(s: Stmt, env: Dict[str, int]):\n",
    "        match s:\n",
    "            case Assign(x, e):\n",
    "                env[x] = eval_expr(e, env)\n",
    "            case Print(e):\n",
    "                print(eval_expr(e, env)) \n",
    "\n",
    "    def eval_expr(e: Expr, env: Dict[str, int]) -> int:\n",
    "        match e:\n",
    "            case Var(x):\n",
    "                return env[x]\n",
    "            case Constant(n):\n",
    "                return n\n",
    "            case Prim(\"add\", [e1,e2]):\n",
    "                val1 = eval_expr(e1, env)\n",
    "                val2 = eval_expr(e2, env)\n",
    "                return val1 + val2\n",
    "\n",
    "    env = {}\n",
    "    for s in program.stmts:\n",
    "        eval_stmt(s, env)"
   ]
  },
  {
   "cell_type": "code",
   "execution_count": 2,
   "metadata": {},
   "outputs": [
    {
     "name": "stdout",
     "output_type": "stream",
     "text": [
      "11\n"
     ]
    }
   ],
   "source": [
    "# Test case for interpreter\n",
    "program = \"\"\"\n",
    "x = 5\n",
    "y = 6\n",
    "print(x + y)\"\"\"\n",
    "\n",
    "eval_lvar(parse(program))"
   ]
  },
  {
   "cell_type": "markdown",
   "metadata": {},
   "source": [
    "----\n",
    "# PART 2: Remove Complex Operands"
   ]
  },
  {
   "cell_type": "markdown",
   "metadata": {},
   "source": [
    "## Question 2\n",
    "\n",
    "Consider this translation of an expression to assembly language. What is wrong with it?"
   ]
  },
  {
   "cell_type": "code",
   "execution_count": 3,
   "metadata": {},
   "outputs": [],
   "source": [
    "python = \"\"\"\n",
    "x = 1 + 2 + 3\n",
    "\"\"\"\n",
    "\n",
    "# In assembly language it is not possible to nest expressions \n",
    "asm = \"\"\"\n",
    "movq $2, %rax\n",
    "addq $1, (addq $3, %rax)\n",
    "\"\"\""
   ]
  },
  {
   "attachments": {},
   "cell_type": "markdown",
   "metadata": {},
   "source": [
    "Assembly language doesnt support nested arguments, arguments to an instruction need to be atomic\n",
    "- Register\n",
    "- Memory location\n",
    "- Constant"
   ]
  },
  {
   "cell_type": "markdown",
   "metadata": {},
   "source": [
    "## Question 3\n",
    "\n",
    "Which AST nodes in the language `Lvar` are **atomic**?"
   ]
  },
  {
   "attachments": {},
   "cell_type": "markdown",
   "metadata": {},
   "source": [
    "Atomic expressions are:\n",
    "- Var\n",
    "- Constant\n",
    "\n",
    "Prim is not atomic because it may have some expressions inside of it"
   ]
  },
  {
   "cell_type": "markdown",
   "metadata": {},
   "source": [
    "## Question 4\n",
    "\n",
    "Why do we need this pass? What is the form of its output?"
   ]
  },
  {
   "attachments": {},
   "cell_type": "markdown",
   "metadata": {},
   "source": [
    "This pass un-nests expressions so that the assembly language can handle them. The output is a program that has no nested expressions.\n",
    "\n",
    "The output of this pass will have primitives that are atomic expressions\n",
    "\n",
    "This formal is called A-normal form (or monadic normal form)"
   ]
  },
  {
   "cell_type": "markdown",
   "metadata": {},
   "source": [
    "## Question 5\n",
    "\n",
    "Convert the program from earlier into A-normal form."
   ]
  },
  {
   "cell_type": "code",
   "execution_count": 4,
   "metadata": {},
   "outputs": [],
   "source": [
    "python = \"\"\"\n",
    "x = 1 + 2 + 3\n",
    "\"\"\""
   ]
  },
  {
   "cell_type": "code",
   "execution_count": 5,
   "metadata": {},
   "outputs": [],
   "source": [
    "python_anf = \"\"\"\n",
    "temp1 = 1 + 2\n",
    "x = temp1 + 3\n",
    "\"\"\""
   ]
  },
  {
   "cell_type": "markdown",
   "metadata": {},
   "source": [
    "## Question 6\n",
    "\n",
    "Describe a recursive procedure to perform the *remove-complex-opera* pass. Reference section 2.4 in the textbook."
   ]
  },
  {
   "attachments": {},
   "cell_type": "markdown",
   "metadata": {},
   "source": [
    "# Structure will follow the structure of the grammar\n",
    "\n",
    "- `rco_exp(exp) -> exp`\n",
    "  - For var: `rco_var(var) -> var`\n",
    "  - For const: `rco_const(const) -> const`\n",
    "  - For prim: \n",
    "    - Create a temp variable and assign it to the result of the primitive\n",
    "    - Store the temp variable in the environment\n",
    "- rco_stmt(stmt) -> stmt\n",
    "- rco_stmts(stmts) -> stmts"
   ]
  },
  {
   "cell_type": "markdown",
   "metadata": {},
   "source": [
    "----\n",
    "# Part 3: Select-instructions\n",
    "\n",
    "The select-instructions pass transforms a sequence of statements into X86 assembly instructions."
   ]
  },
  {
   "attachments": {},
   "cell_type": "markdown",
   "metadata": {},
   "source": [
    "## Question 7\n",
    "\n",
    "**(Not included in Jan 27 in class exercise)**\n",
    "\n",
    "Convert the following `Lvar` code into a psuedo-x86 assembly program.\n",
    "\n",
    "```\n",
    "Module([Assign([Name(\"y\")], Constant(5)),\n",
    "        Assign([Name(\"x\")], Name(\"y\")),\n",
    "        Expr(Call(Name(\"print\"), [Name(\"x\")]))\n",
    "])\n",
    "```"
   ]
  },
  {
   "attachments": {},
   "cell_type": "markdown",
   "metadata": {},
   "source": [
    "## Question 8\n",
    "\n",
    "**(Not included in Jan 27 in class exercise)**\n",
    "\n",
    "Describe the structure of select-instructions."
   ]
  }
 ],
 "metadata": {
  "kernelspec": {
   "display_name": "env",
   "language": "python",
   "name": "python3"
  },
  "language_info": {
   "codemirror_mode": {
    "name": "ipython",
    "version": 3
   },
   "file_extension": ".py",
   "mimetype": "text/x-python",
   "name": "python",
   "nbconvert_exporter": "python",
   "pygments_lexer": "ipython3",
   "version": "3.10.9 (main, Dec 15 2022, 17:11:09) [Clang 14.0.0 (clang-1400.0.29.202)]"
  },
  "vscode": {
   "interpreter": {
    "hash": "1a40a8f11200ac46efc598bedf51f7fe7aa35514dee95396033ee2268a97b617"
   }
  }
 },
 "nbformat": 4,
 "nbformat_minor": 2
}
