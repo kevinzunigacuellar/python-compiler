{
 "cells": [
  {
   "cell_type": "markdown",
   "metadata": {},
   "source": [
    "# CS202: Compiler Construction\n",
    "\n",
    "## In-class Exercises, Week of 02/20/2023\n",
    "\n",
    "----"
   ]
  },
  {
   "cell_type": "markdown",
   "metadata": {},
   "source": [
    "# Conditionals"
   ]
  },
  {
   "cell_type": "markdown",
   "metadata": {},
   "source": [
    "## Question 1\n",
    "\n",
    "The following grammar defines the *concrete syntax* for a subset of $L_{if}$.\n",
    "\n",
    "\\begin{align*}\n",
    "b &::= \\texttt{True} \\mid \\texttt{False}\\\\\n",
    "cmp &::= \\texttt{==} \\mid \\texttt{!=} \\mid \\texttt{<} \\mid \\texttt{<=} \\mid \\texttt{>} \\mid \\texttt{>=} \\\\\n",
    "exp &::= n \\mid b \\mid exp + exp \\mid exp\\; cmp\\; exp \\mid exp\\; \\texttt{and}\\; exp \\mid exp\\; \\texttt{or}\\; exp \\\\\n",
    "stmt &::= var = exp \\mid \\texttt{print}(exp) \\mid \\texttt{if}\\; exp: stmt^+\\; \\texttt{else}: stmt^+ \\\\\n",
    "\\end{align*}\n",
    "\n",
    "Write a program that prints 42 if 5 equals 6, and 0 otherwise."
   ]
  },
  {
   "cell_type": "markdown",
   "metadata": {},
   "source": [
    "```\n",
    "if 5 == 6:\n",
    "    print(42)\n",
    "else:\n",
    "    print(0)\n",
    "```"
   ]
  },
  {
   "cell_type": "markdown",
   "metadata": {},
   "source": [
    "## Question 2\n",
    "\n",
    "Write the same program in x86 assembly language."
   ]
  },
  {
   "cell_type": "markdown",
   "metadata": {},
   "source": [
    "x86 doesn't have if statements, it has jumps. \n",
    "\n",
    "main:\n",
    "- this has the condition in it\n",
    "```\n",
    "movq $6, %r8\n",
    "cmpq $5, %r8 # this is the comparison\n",
    "je label1 # this is the jump if equal\n",
    "jmp label2 # this is the jump if not equal\n",
    "```\n",
    "label1:\n",
    "- this has the \"then\" branch\n",
    "```\n",
    "movq $42, %rdi\n",
    "call print_int\n",
    "jmp conclusion\n",
    "```\n",
    "label2:\n",
    "- this has the \"else\" branch\n",
    "```\n",
    "movq $0, %rdi\n",
    "call print_int\n",
    "jmp conclusion\n",
    "```\n",
    "\n",
    "conclusion:\n",
    "- this is the end of the program\n",
    "```\n",
    "retq\n",
    "``` "
   ]
  },
  {
   "cell_type": "markdown",
   "metadata": {},
   "source": [
    "## Question 3\n",
    "\n",
    "Convert the following program to pseudo-x86 assembly:\n",
    "\n",
    "```\n",
    "if 5 == 6:\n",
    "  x = 0\n",
    "else:\n",
    "  x = 40\n",
    "print(x+2)\n",
    "```"
   ]
  },
  {
   "cell_type": "markdown",
   "metadata": {},
   "source": [
    "```\n",
    "main:\n",
    "  movq $5, %r8\n",
    "  cmpq $6, %r8\n",
    "  je label1\n",
    "  jmp label2\n",
    "label1:\n",
    "  movq $0, #x\n",
    "  jmp label3\n",
    "label2:\n",
    "  movq $40, #x\n",
    "  jmp label3\n",
    "label3:\n",
    "  addq $2, #x\n",
    "  movq #x, %rdi\n",
    "  call print_int\n",
    "```"
   ]
  },
  {
   "cell_type": "markdown",
   "metadata": {},
   "source": [
    "## Question 4\n",
    "\n",
    "Describe a strategy for converting `if` expressions into x86 assembly."
   ]
  },
  {
   "cell_type": "markdown",
   "metadata": {},
   "source": [
    "- create a label for the \"then\" and \"else\" branches and compile the statements in each branch\n",
    "- use cmpq instruction to compare the condition\n",
    "- use jmp and conditional jumps to consume the result of the comparison and jump to the appropriate branch\n",
    "- create a label for the end of the program after the if statement\n",
    "  - we better not copy the code for the end of the program into each branch"
   ]
  },
  {
   "cell_type": "markdown",
   "metadata": {},
   "source": [
    "**Notes:**\n",
    "- `if` is a structure for *control flow*\n",
    "- A [control flow graph](https://en.wikipedia.org/wiki/Control-flow_graph) can express x86 programs with control flow"
   ]
  },
  {
   "cell_type": "markdown",
   "metadata": {},
   "source": [
    "----\n",
    "# Strategy"
   ]
  },
  {
   "cell_type": "markdown",
   "metadata": {},
   "source": [
    "## Question 5\n",
    "\n",
    "List the major differences between $\\mathcal{L}_{var}$ and $\\mathcal{L}_{if}$, and the required corresponding changes to the compiler."
   ]
  },
  {
   "cell_type": "markdown",
   "metadata": {},
   "source": [
    "Language differences:\n",
    "- we have if statements\n",
    "- we now have both int and bool values\n",
    "\n",
    "Required changes:\n",
    "- add a pass (explicate-control) to convert if statements into blocks in a control flow graph\n",
    "- add a pass(typecheck) that typechecks the program"
   ]
  },
  {
   "cell_type": "markdown",
   "metadata": {},
   "source": [
    "## Question 6\n",
    "\n",
    "For each pass of the compiler, list major changes. Include new passes."
   ]
  },
  {
   "cell_type": "markdown",
   "metadata": {},
   "source": [
    "- typecheck : new \n",
    "- rco : no major changes\n",
    "- explicate-control : new\n",
    "- select-instructions : now compile cif to x86\n",
    "- allocate-registers : npw need to handle multiple blocks\n",
    "- patch-instructions : no major changes\n",
    "- prelude-and-conclusion : no major changes"
   ]
  },
  {
   "cell_type": "markdown",
   "metadata": {},
   "source": [
    "## Question 7\n",
    "\n",
    "List the major differences between our source language and that of the textbook."
   ]
  },
  {
   "cell_type": "markdown",
   "metadata": {},
   "source": [
    "- we won't handle if expressions\n",
    "- we won't implement the shrink pass\n",
    "- we will make a few simplifications to the compiler passes"
   ]
  },
  {
   "cell_type": "markdown",
   "metadata": {},
   "source": [
    "----"
   ]
  },
  {
   "cell_type": "markdown",
   "metadata": {},
   "source": [
    "# Typechecking"
   ]
  },
  {
   "cell_type": "markdown",
   "metadata": {},
   "source": [
    "## Question 8\n",
    "\n",
    "What does this program do? What is the type of `x`?\n",
    "\n",
    "```\n",
    "if 1:\n",
    "  x = 2\n",
    "else:\n",
    "  x = 3\n",
    "```"
   ]
  },
  {
   "cell_type": "markdown",
   "metadata": {},
   "source": [
    "this program performs a code block based on the condition.\n",
    "\n",
    "x is an int"
   ]
  },
  {
   "cell_type": "markdown",
   "metadata": {},
   "source": [
    "## Question 9\n",
    "\n",
    "What is the type of `x`?\n",
    "\n",
    "```\n",
    "if 5 == 6:\n",
    "  x = 7\n",
    "else:\n",
    "  x = True\n",
    "```"
   ]
  },
  {
   "cell_type": "markdown",
   "metadata": {},
   "source": [
    "x could be either an int or a bool"
   ]
  },
  {
   "cell_type": "markdown",
   "metadata": {},
   "source": [
    "Notes:\n",
    "\n",
    "Benefits of typechecking:\n",
    "- we can catch errors early\n",
    "- performance"
   ]
  },
  {
   "cell_type": "markdown",
   "metadata": {},
   "source": [
    "## Question 10\n",
    "\n",
    "Fill in the following definition of a typechecker for $L_{if}$ expressions."
   ]
  },
  {
   "cell_type": "code",
   "execution_count": 35,
   "metadata": {},
   "outputs": [],
   "source": [
    "from typing import Dict, List\n",
    "from cs202_support.python import *\n",
    "TEnv = Dict[str, type]\n",
    "\n",
    "prim_input_types = {\n",
    "    '+': [int, int],\n",
    "}\n",
    "\n",
    "prim_output_types = {\n",
    "    '+': int,\n",
    "}\n",
    "\n",
    "def tc_exp(e: Expr, env: TEnv) -> type:\n",
    "    match e:\n",
    "        case Var(x):\n",
    "            return env[x]\n",
    "        case Constant(n):\n",
    "            return type(n)\n",
    "        case Prim('add', [e1, e2]):\n",
    "            assert tc_exp(e1, env) == int\n",
    "            assert tc_exp(e2, env) == int\n",
    "            return int\n",
    "        case Prim('eq', [e1, e2]):\n",
    "            assert tc_exp(e1, env) == tc_exp(e2, env)\n",
    "            return bool"
   ]
  },
  {
   "cell_type": "markdown",
   "metadata": {},
   "source": [
    "## Question 11\n",
    "\n",
    "Fill in the following definition of a typechecker for $L_{if}$ statements."
   ]
  },
  {
   "cell_type": "code",
   "execution_count": 37,
   "metadata": {},
   "outputs": [
    {
     "name": "stdout",
     "output_type": "stream",
     "text": [
      "Test 1 result: Successfully type checked program\n",
      "Test 2 result: Succesfully caught error\n",
      "Test 3 result: Successfully type checked program\n",
      "Test 4 result: Succesfully caught error\n"
     ]
    }
   ],
   "source": [
    "def tc_stmt(s: Stmt, env: TEnv):\n",
    "    match s:\n",
    "        case Assign(x, e):\n",
    "            if x in env:\n",
    "                assert env[x] == tc_exp(e, env)\n",
    "            else:\n",
    "                env[x] = tc_exp(e, env)\n",
    "        case Print(e):\n",
    "            tc_exp(e, env)\n",
    "        case If(e1, s1, s2):\n",
    "            assert tc_exp(e1, env) == bool\n",
    "            for s in s1:\n",
    "                tc_stmt(s, env)\n",
    "            for s in s2:\n",
    "                tc_stmt(s, env)\n",
    "\n",
    "def tc_stmts(ss: List[Stmt]):\n",
    "    env = {}\n",
    "    for s in ss:\n",
    "        tc_stmt(s, env)\n",
    "    return f\"Successfully type checked program\"\n",
    "\n",
    "\n",
    "# TEST CASES\n",
    "print('Test 1 result:', tc_stmts(parse('x=5').stmts))\n",
    "\n",
    "error_prog = \"\"\"\n",
    "y = 5\n",
    "y = True\n",
    "\"\"\"\n",
    "\n",
    "try:\n",
    "    print(tc_stmts(parse(error_prog).stmts))\n",
    "except:\n",
    "    print('Test 2 result: Succesfully caught error')\n",
    "\n",
    "good_if_prog = \"\"\"\n",
    "if 5 == 6:\n",
    "    x = 0\n",
    "else:\n",
    "    x = 1\n",
    "x = 2\n",
    "\"\"\"\n",
    "\n",
    "print('Test 3 result:', tc_stmts(parse(good_if_prog).stmts))\n",
    "\n",
    "error_if_prog = \"\"\"\n",
    "if 5 == 6:\n",
    "    y = 5\n",
    "else:\n",
    "    y = True\n",
    "\"\"\"\n",
    "\n",
    "try:\n",
    "    print(tc_stmts(parse(error_if_prog).body))\n",
    "except:\n",
    "    print('Test 4 result: Succesfully caught error')\n"
   ]
  },
  {
   "cell_type": "markdown",
   "metadata": {},
   "source": [
    "----"
   ]
  },
  {
   "cell_type": "markdown",
   "metadata": {},
   "source": [
    "# RCO"
   ]
  },
  {
   "cell_type": "markdown",
   "metadata": {},
   "source": [
    "## Question 12\n",
    "\n",
    "How do we handle `if` statements in rco?"
   ]
  },
  {
   "cell_type": "markdown",
   "metadata": {},
   "source": [
    "in rco, we need to handle if statements by creating a new variable for each branch and then assigning the variable to the original variable after the if statement."
   ]
  }
 ],
 "metadata": {
  "kernelspec": {
   "display_name": "Python 3 (ipykernel)",
   "language": "python",
   "name": "python3"
  },
  "language_info": {
   "codemirror_mode": {
    "name": "ipython",
    "version": 3
   },
   "file_extension": ".py",
   "mimetype": "text/x-python",
   "name": "python",
   "nbconvert_exporter": "python",
   "pygments_lexer": "ipython3",
   "version": "3.10.10"
  },
  "vscode": {
   "interpreter": {
    "hash": "3919e158b663b4f135c01bdef1ce511b0f917d636d01220fa5e2993c18769e50"
   }
  }
 },
 "nbformat": 4,
 "nbformat_minor": 4
}
