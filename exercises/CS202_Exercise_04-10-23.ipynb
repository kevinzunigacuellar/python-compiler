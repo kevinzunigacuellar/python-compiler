{
 "cells": [
  {
   "cell_type": "markdown",
   "metadata": {},
   "source": [
    "# CS202: Compiler Construction\n",
    "\n",
    "## In-class Exercises, Week of 04/10/2023\n",
    "\n",
    "----"
   ]
  },
  {
   "cell_type": "markdown",
   "metadata": {},
   "source": [
    "# Part 1: Functions and Lfun"
   ]
  },
  {
   "cell_type": "markdown",
   "metadata": {},
   "source": [
    "## Question 1\n",
    "\n",
    "Write an `Lfun` program with a function called `add1` that adds 1 to its argument, and a call to the function."
   ]
  },
  {
   "cell_type": "code",
   "execution_count": 1,
   "metadata": {},
   "outputs": [
    {
     "data": {
      "text/plain": [
       "6"
      ]
     },
     "execution_count": 1,
     "metadata": {},
     "output_type": "execute_result"
    }
   ],
   "source": [
    "def add1(n: int) -> int:\n",
    "    return n + 1\n",
    "\n",
    "add1(5)"
   ]
  },
  {
   "cell_type": "markdown",
   "metadata": {},
   "source": [
    "## Question 2\n",
    "\n",
    "Write a recursive program to calculate the factorial of 5."
   ]
  },
  {
   "cell_type": "code",
   "execution_count": 2,
   "metadata": {},
   "outputs": [
    {
     "data": {
      "text/plain": [
       "120"
      ]
     },
     "execution_count": 2,
     "metadata": {},
     "output_type": "execute_result"
    }
   ],
   "source": [
    "def fact(n: int) -> int:\n",
    "    if n == 0:\n",
    "        return 1\n",
    "    else:\n",
    "        return n * fact(n - 1)\n",
    "\n",
    "fact(5)"
   ]
  },
  {
   "cell_type": "markdown",
   "metadata": {},
   "source": [
    "## Question 3\n",
    "\n",
    "Summarize the changes to the compiler to support functions."
   ]
  },
  {
   "attachments": {},
   "cell_type": "markdown",
   "metadata": {},
   "source": [
    "Theme: treat each function as its own mini-program\n",
    "1. before explicate control: add cases for function definitions, treating function definitions as statements\n",
    "2. explicate control: construct CFG for each function definition, output program is a list of function definitions (each is a mini-program)\n",
    "3. after explicate control: call passes we wrote for A6 on each mini-program separately"
   ]
  },
  {
   "cell_type": "markdown",
   "metadata": {},
   "source": [
    "----"
   ]
  },
  {
   "cell_type": "markdown",
   "metadata": {},
   "source": [
    "# Part 2: Typechecking for Functions"
   ]
  },
  {
   "cell_type": "markdown",
   "metadata": {},
   "source": [
    "## Question 4\n",
    "\n",
    "What are the types of the functions `add1` and `*`?"
   ]
  },
  {
   "attachments": {},
   "cell_type": "markdown",
   "metadata": {},
   "source": [
    "add1: int -> int\n",
    "\n",
    "add1: `Callable[[int], int]`\n",
    "\n",
    "`*` : `Callable[[int, int], int ] `\n",
    "\n",
    "int * int -> int"
   ]
  },
  {
   "cell_type": "markdown",
   "metadata": {},
   "source": [
    "## Question 5\n",
    "\n",
    "Why do we need to specify the types of a function's arguments?"
   ]
  },
  {
   "attachments": {},
   "cell_type": "markdown",
   "metadata": {},
   "source": [
    "- So we can typecheck function calls\n",
    "- Overloading\n",
    "- Modularity need to know the types of inputs in order to typecheck function definition isolation\n",
    "- Recursive functions: need functions's output type in order to typecheck its body (or else you get an infinite loop)"
   ]
  },
  {
   "cell_type": "markdown",
   "metadata": {},
   "source": [
    "## Question 6\n",
    "\n",
    "Write a function `length` such that the following expression returns 3:\n",
    "\n",
    "```\n",
    "v = (1, (2, (3, 0)))\n",
    "print(length(v))\n",
    "```"
   ]
  },
  {
   "attachments": {},
   "cell_type": "markdown",
   "metadata": {},
   "source": [
    "def length(v: List[int]) -> int:\n",
    "    ???"
   ]
  },
  {
   "cell_type": "markdown",
   "metadata": {},
   "source": [
    "## Question 7\n",
    "\n",
    "How do we typecheck a function call of the form `f(a1, ..., ak)`?"
   ]
  },
  {
   "attachments": {},
   "cell_type": "markdown",
   "metadata": {},
   "source": [
    "### New case in tc_exp:\n",
    "  \n",
    "  `case Call(f, args)`\n",
    "1. Assume that we have already typechecked the definition of `f`\n",
    "2. Typecheck f; it should have the type `Callable[[t1, ..., tk], t]`\n",
    "3. Typecheck `a1`, ..., `ak` and ensure they have the same types as the arguments in the function definition (t1, ..., tk)(lots of assertions)\n",
    "4. Return the type t"
   ]
  },
  {
   "cell_type": "markdown",
   "metadata": {},
   "source": [
    "## Question 8\n",
    "\n",
    "How do we typecheck a function definition?"
   ]
  },
  {
   "attachments": {},
   "cell_type": "markdown",
   "metadata": {},
   "source": [
    "```py\n",
    "def fact(n: int) -> int:\n",
    "    if n == 0:\n",
    "        return 1\n",
    "    else:\n",
    "        return n * fact(n - 1)\n",
    "\n",
    "```\n",
    "\n",
    "New case in tc_stmt:\n",
    "case FunctionDef(name, args_and_types, body_stmts, ret_type)\n",
    "\n",
    "Update the type environment (somehow) to include the function name and its type\n",
    "\n",
    "1. Update the type environment to have types for the function's arguments\n",
    "2. Typecheck the body_stmts `tc_stmts(body_stmts, env)`\n",
    "```py\n",
    "env[name] = Callable(arg_types, return_type)\n",
    "```"
   ]
  },
  {
   "cell_type": "markdown",
   "metadata": {},
   "source": [
    "## Question 9\n",
    "\n",
    "How do we typecheck a `Lfun` program?"
   ]
  },
  {
   "attachments": {},
   "cell_type": "markdown",
   "metadata": {},
   "source": [
    "Three new cases:\n",
    "\n",
    "1. FunctionDef(name, params, body_stmts, return_type)\n",
    "2. Return(e)\n",
    "3. Call(f, args)\n",
    "\n",
    "- For `FunctionDef(name, params, body_stmts, return_type)`:\n",
    "    1. `env[name] = Callable(param_types, return_type)`\n",
    "\n",
    "    We add the function to the environment before typechecking the body, so that the function can call itself.\n",
    "\n",
    "    2. Copy env into new_env and modify the new_env. (when we are done we can throw away the new_env)\n",
    "    3. Add bindings to new_env for the function's parameters\n",
    "    4. new_env['retval'] = return_type\n",
    "    5. call `tc_stmts(body_stmts, new_env)`\n",
    "\n",
    "- For `Return(e)`:\n",
    "    1. Assert that tc_exp(e, env) == env['retval']\n",
    "\n",
    "- For `Call(func, args)`:\n",
    "    - Treat it like a Prim\n",
    "    - Except you also need to call tc_exp(func, env)\n",
    "    - Expect that the resulting type is a Callable\n",
    "    - Check that each arg has the type expected by the function\n",
    "    - Return type is Callable's return type\n"
   ]
  },
  {
   "cell_type": "markdown",
   "metadata": {},
   "source": [
    "----\n",
    "# Part 3: Changes to RCO and Expose-Alloc"
   ]
  },
  {
   "cell_type": "markdown",
   "metadata": {},
   "source": [
    "## Question 10\n",
    "\n",
    "Describe the changes to RCO."
   ]
  },
  {
   "attachments": {},
   "cell_type": "markdown",
   "metadata": {},
   "source": [
    "New cases:\n",
    "\n",
    "1. FunctionDef in rco_stmt\n",
    "    - just call rco_stmts on the body\n",
    "    - add name to the list of functions\n",
    "2. Return in rco_stmt\n",
    "    - call rco_exp on the return expression\n",
    "    - should make the return expression atomic\n",
    "3. Call in rco_exp\n",
    "    - Like Prim\n",
    "    - also call rco_exp on the function\n",
    "4. Var in rco_exp, when the variable is a function reference\n",
    "    - if the var is a function name, generate a tmp for it and return the tmp"
   ]
  },
  {
   "cell_type": "markdown",
   "metadata": {},
   "source": [
    "## Question 11\n",
    "\n",
    "Describe the changes to expose-alloc."
   ]
  },
  {
   "attachments": {},
   "cell_type": "markdown",
   "metadata": {},
   "source": [
    "1. Add a case to ea_stmt for `FunctionDef` that calls `ea_stmts` on the body of the function"
   ]
  },
  {
   "cell_type": "markdown",
   "metadata": {},
   "source": [
    "----"
   ]
  },
  {
   "cell_type": "markdown",
   "metadata": {},
   "source": [
    "# Part 4: Functions in x86 Assembly"
   ]
  },
  {
   "cell_type": "markdown",
   "metadata": {},
   "source": [
    "## Question 12\n",
    "\n",
    "Write an x86 assembly program corresponding to the `add1` program."
   ]
  },
  {
   "cell_type": "code",
   "execution_count": 3,
   "metadata": {},
   "outputs": [
    {
     "name": "stdout",
     "output_type": "stream",
     "text": [
      "============================== STARTING EXECUTION ==============================\n",
      "CALL TO print_int: 6\n",
      "  Location                        Value\n",
      "0  reg rbp                         1000\n",
      "1  reg rsp                         1000\n",
      "2  reg rdi                            6\n",
      "3   reg r8                            6\n",
      "4  reg rax                            6\n",
      "5     add1  FunPointer(fun_name='add1')\n",
      "6     main  FunPointer(fun_name='main')\n",
      "FINAL STATE:\n",
      "  Location                        Value\n",
      "0  reg rbp                         1000\n",
      "1  reg rsp                         1000\n",
      "2  reg rdi                            6\n",
      "3   reg r8                            6\n",
      "4  reg rax                            6\n",
      "5     add1  FunPointer(fun_name='add1')\n",
      "6     main  FunPointer(fun_name='main')\n",
      "OUTPUT: [6]\n",
      "============================== FINISHED EXECUTION ==============================\n"
     ]
    },
    {
     "data": {
      "text/html": [
       "<div>\n",
       "<style scoped>\n",
       "    .dataframe tbody tr th:only-of-type {\n",
       "        vertical-align: middle;\n",
       "    }\n",
       "\n",
       "    .dataframe tbody tr th {\n",
       "        vertical-align: top;\n",
       "    }\n",
       "\n",
       "    .dataframe thead th {\n",
       "        text-align: right;\n",
       "    }\n",
       "</style>\n",
       "<table border=\"1\" class=\"dataframe\">\n",
       "  <thead>\n",
       "    <tr style=\"text-align: right;\">\n",
       "      <th></th>\n",
       "      <th>Location</th>\n",
       "      <th>Value</th>\n",
       "    </tr>\n",
       "  </thead>\n",
       "  <tbody>\n",
       "    <tr>\n",
       "      <th>0</th>\n",
       "      <td>reg rbp</td>\n",
       "      <td>1000</td>\n",
       "    </tr>\n",
       "    <tr>\n",
       "      <th>1</th>\n",
       "      <td>reg rsp</td>\n",
       "      <td>1000</td>\n",
       "    </tr>\n",
       "    <tr>\n",
       "      <th>2</th>\n",
       "      <td>reg rdi</td>\n",
       "      <td>6</td>\n",
       "    </tr>\n",
       "    <tr>\n",
       "      <th>3</th>\n",
       "      <td>reg r8</td>\n",
       "      <td>6</td>\n",
       "    </tr>\n",
       "    <tr>\n",
       "      <th>4</th>\n",
       "      <td>reg rax</td>\n",
       "      <td>6</td>\n",
       "    </tr>\n",
       "    <tr>\n",
       "      <th>5</th>\n",
       "      <td>add1</td>\n",
       "      <td>FunPointer(fun_name='add1')</td>\n",
       "    </tr>\n",
       "    <tr>\n",
       "      <th>6</th>\n",
       "      <td>main</td>\n",
       "      <td>FunPointer(fun_name='main')</td>\n",
       "    </tr>\n",
       "  </tbody>\n",
       "</table>\n",
       "</div>"
      ],
      "text/plain": [
       "  Location                        Value\n",
       "0  reg rbp                         1000\n",
       "1  reg rsp                         1000\n",
       "2  reg rdi                            6\n",
       "3   reg r8                            6\n",
       "4  reg rax                            6\n",
       "5     add1  FunPointer(fun_name='add1')\n",
       "6     main  FunPointer(fun_name='main')"
      ]
     },
     "execution_count": 3,
     "metadata": {},
     "output_type": "execute_result"
    }
   ],
   "source": [
    "from cs202_support.eval_x86 import X86Emulator\n",
    "\n",
    "\"\"\"\n",
    "use callq as a jmp that remembers where it came from;\n",
    "retq to return to where you came from\n",
    "calling convention:\n",
    "put arguments in the registers %rdi, %rsi, %rdx, %rcx, %r8, %r9\n",
    "put the return value in %rax\n",
    "\"\"\"\n",
    "\n",
    "asm = \"\"\"\n",
    "add1:\n",
    "  movq %rdi, %r8\n",
    "  addq $1, %r8\n",
    "  movq %r8, %rax\n",
    "  retq\n",
    "main:\n",
    "  movq $5, %rdi\n",
    "  callq add1\n",
    "  movq %rax, %rdi\n",
    "  callq print_int\n",
    "\"\"\"\n",
    "\n",
    "emu = X86Emulator(logging=True)\n",
    "emu.eval_program(asm)\n",
    "emu.print_state()"
   ]
  },
  {
   "cell_type": "markdown",
   "metadata": {},
   "source": [
    "## Question 13\n",
    "\n",
    "Describe the *calling convention* we will use for functions in Rfun."
   ]
  },
  {
   "attachments": {},
   "cell_type": "markdown",
   "metadata": {},
   "source": [
    "calling convention:\n",
    "\n",
    "- put arguments in the registers rdi, rsi, rdx, rcx, r8, r9\n",
    "- put return value in rax\n",
    "- book says that for more than 6 parameters, put the rest on the stack\n",
    "- our compiler will only use 6 parameters"
   ]
  },
  {
   "cell_type": "markdown",
   "metadata": {},
   "source": [
    "## Question 14\n",
    "\n",
    "Describe the management of the *stack* and *root stack* performed on function entry and exit."
   ]
  },
  {
   "attachments": {},
   "cell_type": "markdown",
   "metadata": {},
   "source": [
    "On function entry:\n",
    "- Allocate a new stack frame with slots for stack-allocated variables of the function\n",
    "- allocate a root stack frame with slots for root-stack allocated variables\n",
    "\n",
    "On function exit:\n",
    "- Reclaim the stack space we allocated\n",
    "- Reclaim the root stack space we allocated\n",
    "\n",
    "we do it in exactly the same way as for the program expect that we don't initialize the heap for the function"
   ]
  },
  {
   "cell_type": "markdown",
   "metadata": {},
   "source": [
    "## Question 15\n",
    "\n",
    "Modify the program from earlier to correctly manage the stack and root stack. Allocate the variable `n` on the stack."
   ]
  },
  {
   "cell_type": "code",
   "execution_count": 4,
   "metadata": {},
   "outputs": [
    {
     "name": "stdout",
     "output_type": "stream",
     "text": [
      "============================== STARTING EXECUTION ==============================\n",
      "CALL TO print_int: 6\n",
      "        Location                                 Value\n",
      "0        mem 992                                  1000\n",
      "1        reg rbp                                  1000\n",
      "2        reg rsp                                  1000\n",
      "3        reg rdi                                     6\n",
      "4         reg r8                                     6\n",
      "5        reg rax                                     6\n",
      "6      add1start      FunPointer(fun_name='add1start')\n",
      "7           add1           FunPointer(fun_name='add1')\n",
      "8  add1conlusion  FunPointer(fun_name='add1conlusion')\n",
      "9           main           FunPointer(fun_name='main')\n",
      "FINAL STATE:\n",
      "        Location                                 Value\n",
      "0        mem 992                                  1000\n",
      "1        reg rbp                                  1000\n",
      "2        reg rsp                                  1000\n",
      "3        reg rdi                                     6\n",
      "4         reg r8                                     6\n",
      "5        reg rax                                     6\n",
      "6      add1start      FunPointer(fun_name='add1start')\n",
      "7           add1           FunPointer(fun_name='add1')\n",
      "8  add1conlusion  FunPointer(fun_name='add1conlusion')\n",
      "9           main           FunPointer(fun_name='main')\n",
      "OUTPUT: [6]\n",
      "============================== FINISHED EXECUTION ==============================\n"
     ]
    },
    {
     "data": {
      "text/html": [
       "<div>\n",
       "<style scoped>\n",
       "    .dataframe tbody tr th:only-of-type {\n",
       "        vertical-align: middle;\n",
       "    }\n",
       "\n",
       "    .dataframe tbody tr th {\n",
       "        vertical-align: top;\n",
       "    }\n",
       "\n",
       "    .dataframe thead th {\n",
       "        text-align: right;\n",
       "    }\n",
       "</style>\n",
       "<table border=\"1\" class=\"dataframe\">\n",
       "  <thead>\n",
       "    <tr style=\"text-align: right;\">\n",
       "      <th></th>\n",
       "      <th>Location</th>\n",
       "      <th>Value</th>\n",
       "    </tr>\n",
       "  </thead>\n",
       "  <tbody>\n",
       "    <tr>\n",
       "      <th>0</th>\n",
       "      <td>mem 992</td>\n",
       "      <td>1000</td>\n",
       "    </tr>\n",
       "    <tr>\n",
       "      <th>1</th>\n",
       "      <td>reg rbp</td>\n",
       "      <td>1000</td>\n",
       "    </tr>\n",
       "    <tr>\n",
       "      <th>2</th>\n",
       "      <td>reg rsp</td>\n",
       "      <td>1000</td>\n",
       "    </tr>\n",
       "    <tr>\n",
       "      <th>3</th>\n",
       "      <td>reg rdi</td>\n",
       "      <td>6</td>\n",
       "    </tr>\n",
       "    <tr>\n",
       "      <th>4</th>\n",
       "      <td>reg r8</td>\n",
       "      <td>6</td>\n",
       "    </tr>\n",
       "    <tr>\n",
       "      <th>5</th>\n",
       "      <td>reg rax</td>\n",
       "      <td>6</td>\n",
       "    </tr>\n",
       "    <tr>\n",
       "      <th>6</th>\n",
       "      <td>add1start</td>\n",
       "      <td>FunPointer(fun_name='add1start')</td>\n",
       "    </tr>\n",
       "    <tr>\n",
       "      <th>7</th>\n",
       "      <td>add1</td>\n",
       "      <td>FunPointer(fun_name='add1')</td>\n",
       "    </tr>\n",
       "    <tr>\n",
       "      <th>8</th>\n",
       "      <td>add1conlusion</td>\n",
       "      <td>FunPointer(fun_name='add1conlusion')</td>\n",
       "    </tr>\n",
       "    <tr>\n",
       "      <th>9</th>\n",
       "      <td>main</td>\n",
       "      <td>FunPointer(fun_name='main')</td>\n",
       "    </tr>\n",
       "  </tbody>\n",
       "</table>\n",
       "</div>"
      ],
      "text/plain": [
       "        Location                                 Value\n",
       "0        mem 992                                  1000\n",
       "1        reg rbp                                  1000\n",
       "2        reg rsp                                  1000\n",
       "3        reg rdi                                     6\n",
       "4         reg r8                                     6\n",
       "5        reg rax                                     6\n",
       "6      add1start      FunPointer(fun_name='add1start')\n",
       "7           add1           FunPointer(fun_name='add1')\n",
       "8  add1conlusion  FunPointer(fun_name='add1conlusion')\n",
       "9           main           FunPointer(fun_name='main')"
      ]
     },
     "execution_count": 4,
     "metadata": {},
     "output_type": "execute_result"
    }
   ],
   "source": [
    "asm = \"\"\"\n",
    "add1start:\n",
    "  movq %rdi, %r8\n",
    "  addq $1, %r8\n",
    "  movq %r8, %rax\n",
    "  jmp add1conlusion\n",
    "add1:\n",
    "  pushq %rbp\n",
    "  movq %rsp, %rbp\n",
    "  subq $0, %rsp\n",
    "  jmp add1start\n",
    "add1conlusion:\n",
    "  addq $0, %rsp\n",
    "  popq %rbp\n",
    "  retq\n",
    "main:\n",
    "  movq $5, %rdi\n",
    "  callq add1\n",
    "  movq %rax, %rdi\n",
    "  callq print_int\n",
    "\"\"\"\n",
    "\n",
    "emu = X86Emulator(logging=True)\n",
    "emu.eval_program(asm)\n",
    "emu.print_state()"
   ]
  },
  {
   "cell_type": "markdown",
   "metadata": {},
   "source": [
    "## Question 16\n",
    "\n",
    "Modify the program again, to save and restore the *callee-saved registers*."
   ]
  },
  {
   "cell_type": "code",
   "execution_count": 5,
   "metadata": {
    "scrolled": true
   },
   "outputs": [
    {
     "name": "stdout",
     "output_type": "stream",
     "text": [
      "============================== STARTING EXECUTION ==============================\n",
      "CALL TO print_int: 6\n",
      "         Location                                 Value\n",
      "0         mem 960                                  None\n",
      "1         mem 968                                  None\n",
      "2         mem 976                                  None\n",
      "3         mem 984                                  None\n",
      "4         mem 992                                  1000\n",
      "5         reg rbp                                  1000\n",
      "6         reg rsp                                  1000\n",
      "7         reg rdi                                     6\n",
      "8         reg rbx                                  None\n",
      "9         reg r12                                  None\n",
      "10        reg r13                                  None\n",
      "11        reg r14                                  None\n",
      "12         reg r8                                     6\n",
      "13        reg rax                                     6\n",
      "14      add1start      FunPointer(fun_name='add1start')\n",
      "15           add1           FunPointer(fun_name='add1')\n",
      "16  add1conlusion  FunPointer(fun_name='add1conlusion')\n",
      "17           main           FunPointer(fun_name='main')\n",
      "FINAL STATE:\n",
      "         Location                                 Value\n",
      "0         mem 960                                  None\n",
      "1         mem 968                                  None\n",
      "2         mem 976                                  None\n",
      "3         mem 984                                  None\n",
      "4         mem 992                                  1000\n",
      "5         reg rbp                                  1000\n",
      "6         reg rsp                                  1000\n",
      "7         reg rdi                                     6\n",
      "8         reg rbx                                  None\n",
      "9         reg r12                                  None\n",
      "10        reg r13                                  None\n",
      "11        reg r14                                  None\n",
      "12         reg r8                                     6\n",
      "13        reg rax                                     6\n",
      "14      add1start      FunPointer(fun_name='add1start')\n",
      "15           add1           FunPointer(fun_name='add1')\n",
      "16  add1conlusion  FunPointer(fun_name='add1conlusion')\n",
      "17           main           FunPointer(fun_name='main')\n",
      "OUTPUT: [6]\n",
      "============================== FINISHED EXECUTION ==============================\n"
     ]
    },
    {
     "data": {
      "text/html": [
       "<div>\n",
       "<style scoped>\n",
       "    .dataframe tbody tr th:only-of-type {\n",
       "        vertical-align: middle;\n",
       "    }\n",
       "\n",
       "    .dataframe tbody tr th {\n",
       "        vertical-align: top;\n",
       "    }\n",
       "\n",
       "    .dataframe thead th {\n",
       "        text-align: right;\n",
       "    }\n",
       "</style>\n",
       "<table border=\"1\" class=\"dataframe\">\n",
       "  <thead>\n",
       "    <tr style=\"text-align: right;\">\n",
       "      <th></th>\n",
       "      <th>Location</th>\n",
       "      <th>Value</th>\n",
       "    </tr>\n",
       "  </thead>\n",
       "  <tbody>\n",
       "    <tr>\n",
       "      <th>0</th>\n",
       "      <td>mem 960</td>\n",
       "      <td>None</td>\n",
       "    </tr>\n",
       "    <tr>\n",
       "      <th>1</th>\n",
       "      <td>mem 968</td>\n",
       "      <td>None</td>\n",
       "    </tr>\n",
       "    <tr>\n",
       "      <th>2</th>\n",
       "      <td>mem 976</td>\n",
       "      <td>None</td>\n",
       "    </tr>\n",
       "    <tr>\n",
       "      <th>3</th>\n",
       "      <td>mem 984</td>\n",
       "      <td>None</td>\n",
       "    </tr>\n",
       "    <tr>\n",
       "      <th>4</th>\n",
       "      <td>mem 992</td>\n",
       "      <td>1000</td>\n",
       "    </tr>\n",
       "    <tr>\n",
       "      <th>5</th>\n",
       "      <td>reg rbp</td>\n",
       "      <td>1000</td>\n",
       "    </tr>\n",
       "    <tr>\n",
       "      <th>6</th>\n",
       "      <td>reg rsp</td>\n",
       "      <td>1000</td>\n",
       "    </tr>\n",
       "    <tr>\n",
       "      <th>7</th>\n",
       "      <td>reg rdi</td>\n",
       "      <td>6</td>\n",
       "    </tr>\n",
       "    <tr>\n",
       "      <th>8</th>\n",
       "      <td>reg rbx</td>\n",
       "      <td>None</td>\n",
       "    </tr>\n",
       "    <tr>\n",
       "      <th>9</th>\n",
       "      <td>reg r12</td>\n",
       "      <td>None</td>\n",
       "    </tr>\n",
       "    <tr>\n",
       "      <th>10</th>\n",
       "      <td>reg r13</td>\n",
       "      <td>None</td>\n",
       "    </tr>\n",
       "    <tr>\n",
       "      <th>11</th>\n",
       "      <td>reg r14</td>\n",
       "      <td>None</td>\n",
       "    </tr>\n",
       "    <tr>\n",
       "      <th>12</th>\n",
       "      <td>reg r8</td>\n",
       "      <td>6</td>\n",
       "    </tr>\n",
       "    <tr>\n",
       "      <th>13</th>\n",
       "      <td>reg rax</td>\n",
       "      <td>6</td>\n",
       "    </tr>\n",
       "    <tr>\n",
       "      <th>14</th>\n",
       "      <td>add1start</td>\n",
       "      <td>FunPointer(fun_name='add1start')</td>\n",
       "    </tr>\n",
       "    <tr>\n",
       "      <th>15</th>\n",
       "      <td>add1</td>\n",
       "      <td>FunPointer(fun_name='add1')</td>\n",
       "    </tr>\n",
       "    <tr>\n",
       "      <th>16</th>\n",
       "      <td>add1conlusion</td>\n",
       "      <td>FunPointer(fun_name='add1conlusion')</td>\n",
       "    </tr>\n",
       "    <tr>\n",
       "      <th>17</th>\n",
       "      <td>main</td>\n",
       "      <td>FunPointer(fun_name='main')</td>\n",
       "    </tr>\n",
       "  </tbody>\n",
       "</table>\n",
       "</div>"
      ],
      "text/plain": [
       "         Location                                 Value\n",
       "0         mem 960                                  None\n",
       "1         mem 968                                  None\n",
       "2         mem 976                                  None\n",
       "3         mem 984                                  None\n",
       "4         mem 992                                  1000\n",
       "5         reg rbp                                  1000\n",
       "6         reg rsp                                  1000\n",
       "7         reg rdi                                     6\n",
       "8         reg rbx                                  None\n",
       "9         reg r12                                  None\n",
       "10        reg r13                                  None\n",
       "11        reg r14                                  None\n",
       "12         reg r8                                     6\n",
       "13        reg rax                                     6\n",
       "14      add1start      FunPointer(fun_name='add1start')\n",
       "15           add1           FunPointer(fun_name='add1')\n",
       "16  add1conlusion  FunPointer(fun_name='add1conlusion')\n",
       "17           main           FunPointer(fun_name='main')"
      ]
     },
     "execution_count": 5,
     "metadata": {},
     "output_type": "execute_result"
    }
   ],
   "source": [
    "\"\"\"\n",
    "there are two kinds of registers: callee-saved and caller-saved\n",
    "function can do whatever it wants with the caller-saved registers\n",
    "function must maintain the values of the callee-saved registers: rbx, r12, r13, r14\n",
    "\"\"\"\n",
    "\n",
    "asm = \"\"\"\n",
    "add1start:\n",
    "  movq %rdi, %r8\n",
    "  addq $1, %r8\n",
    "  movq %r8, %rax\n",
    "  jmp add1conlusion\n",
    "add1:\n",
    "  pushq %rbp\n",
    "  movq %rsp, %rbp\n",
    "  pushq %rbx\n",
    "  pushq %r12\n",
    "  pushq %r13\n",
    "  pushq %r14\n",
    "  subq $0, %rsp\n",
    "  jmp add1start\n",
    "add1conlusion:\n",
    "  addq $0, %rsp\n",
    "  popq %r14\n",
    "  popq %r13\n",
    "  popq %r12\n",
    "  popq %rbx\n",
    "  popq %rbp\n",
    "  retq\n",
    "main:\n",
    "  movq $5, %rdi\n",
    "  callq add1\n",
    "  movq %rax, %rdi\n",
    "  callq print_int\n",
    "\"\"\"\n",
    "\n",
    "emu = X86Emulator(logging=True)\n",
    "emu.eval_program(asm)\n",
    "emu.print_state()"
   ]
  },
  {
   "cell_type": "markdown",
   "metadata": {},
   "source": [
    "----\n",
    "# Part 5: Explicate-Control"
   ]
  },
  {
   "cell_type": "markdown",
   "metadata": {},
   "source": [
    "## Question 16\n",
    "\n",
    "Describe the changes to explicate-control."
   ]
  },
  {
   "attachments": {},
   "cell_type": "markdown",
   "metadata": {},
   "source": [
    "Old version: convert statements to control-flow graph\n",
    "New version: convert statements to a list of function definitions, each with its own control-flow graph\n",
    "\n",
    "Explicate control works as before but has three new cases:\n",
    "1. Add Return to ec_stmt\n",
    "2. Add Call to ec_exp: like Prim, but call ec_atm on the function\n",
    "3. Add FunctionDef to ec_stmt: call ec_function on the function definition"
   ]
  },
  {
   "cell_type": "markdown",
   "metadata": {},
   "source": [
    "## Question 17\n",
    "\n",
    "Describe the ec_function function."
   ]
  },
  {
   "attachments": {},
   "cell_type": "markdown",
   "metadata": {},
   "source": [
    "Change the pass globally:\n",
    "\n",
    "1. Add a global var to the pass called `current_function` that tracks the function being compiled. It stats out as \"main\".\n",
    "2. Add a global var to the pass called `functions` that is a list of function definitions. The ec_function function will add to this list\n",
    "3. Modify `create_block` to add the function's name as as prefix to the label it creates\n",
    "\n",
    "ec_function:\n",
    "1. Save `basic_blocks` and `current_function` so we can restore them later.\n",
    "2. Set `basic_blocks` to an empty list and `current_function` to the name of the function we are compiling\n",
    "3. Call ec_stmts on the body statements, with the continuation `Return(0)` \n",
    "4. Set `basic_blocks[name + 'start']` to the result of step 3\n",
    "5. Construct a cfun.FunctionDef with the name, parameters names, and basic_blocks\n",
    "6. Append the function def to `functions`\n",
    "\n"
   ]
  }
 ],
 "metadata": {
  "kernelspec": {
   "display_name": "Python 3 (ipykernel)",
   "language": "python",
   "name": "python3"
  },
  "language_info": {
   "codemirror_mode": {
    "name": "ipython",
    "version": 3
   },
   "file_extension": ".py",
   "mimetype": "text/x-python",
   "name": "python",
   "nbconvert_exporter": "python",
   "pygments_lexer": "ipython3",
   "version": "3.11.3"
  }
 },
 "nbformat": 4,
 "nbformat_minor": 4
}
