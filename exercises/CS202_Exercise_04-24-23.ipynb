{
 "cells": [
  {
   "cell_type": "markdown",
   "metadata": {},
   "source": [
    "# CS202: Compiler Construction\n",
    "\n",
    "## In-class Exercises, Week of 04/24/2023\n",
    "\n",
    "----"
   ]
  },
  {
   "cell_type": "markdown",
   "metadata": {},
   "source": [
    "# Lexical and Dynamic Scope"
   ]
  },
  {
   "cell_type": "markdown",
   "metadata": {},
   "source": [
    "## Question 1\n",
    "\n",
    "What is the output of this program under *lexical scope*?"
   ]
  },
  {
   "cell_type": "code",
   "execution_count": 1,
   "metadata": {},
   "outputs": [
    {
     "name": "stdout",
     "output_type": "stream",
     "text": [
      "3\n"
     ]
    }
   ],
   "source": [
    "z = 1\n",
    "def f():\n",
    "    z = 3\n",
    "    def g():\n",
    "        print(z)\n",
    "    return g\n",
    "\n",
    "z = 5\n",
    "f()()"
   ]
  },
  {
   "attachments": {},
   "cell_type": "markdown",
   "metadata": {},
   "source": [
    "3, because we used the environment that existed when g was defined, not when it was called."
   ]
  },
  {
   "cell_type": "markdown",
   "metadata": {},
   "source": [
    "## Question 2\n",
    "\n",
    "What would the output be under *dynamic scope*?"
   ]
  },
  {
   "attachments": {},
   "cell_type": "markdown",
   "metadata": {},
   "source": [
    "5, because we used the env that existed when it was called."
   ]
  },
  {
   "cell_type": "markdown",
   "metadata": {},
   "source": [
    "## Question 3\n",
    "\n",
    "What is the difference between lexical and dynamic scope?"
   ]
  },
  {
   "attachments": {},
   "cell_type": "markdown",
   "metadata": {},
   "source": [
    "When evaluating a function body when the function is called:\n",
    "\n",
    "- Lexical scope uses the environment that existed when the function was defined\n",
    "- Dynamic scope uses the environment that existed when the function was called.\n",
    "\n",
    "When writing an interpreter, lexical scope is harded to implement than dynamic scope. Dynamic scope is \"natural\" when writing an interpreter."
   ]
  },
  {
   "cell_type": "markdown",
   "metadata": {},
   "source": [
    "## Question 4\n",
    "\n",
    "What is the output of the following code?"
   ]
  },
  {
   "cell_type": "code",
   "execution_count": 2,
   "metadata": {},
   "outputs": [
    {
     "name": "stdout",
     "output_type": "stream",
     "text": [
      "10\n"
     ]
    }
   ],
   "source": [
    "for i in range(10):\n",
    "    i = i + 1\n",
    "print(i)"
   ]
  },
  {
   "attachments": {},
   "cell_type": "markdown",
   "metadata": {},
   "source": [
    "The ouput is 10 (not an error message). When a \"new scope\" starts in python, it does lexical scope, but when saving the environment, it saves the pointer to the environment, not the environment itself. So when we call f, it uses the environment that existed when f was defined, not when it was called."
   ]
  },
  {
   "cell_type": "markdown",
   "metadata": {},
   "source": [
    "----\n",
    "# Closure Conversion"
   ]
  },
  {
   "cell_type": "markdown",
   "metadata": {},
   "source": [
    "## Question 5\n",
    "\n",
    "Transform the following program into an `Llambda` program by performing closure conversion.\n",
    "\n",
    "```\n",
    "z = 1\n",
    "def f():\n",
    "    z = 3\n",
    "    def g():\n",
    "        print(z)\n",
    "    return g\n",
    "\n",
    "z = 5\n",
    "f()()\n",
    "```"
   ]
  },
  {
   "cell_type": "code",
   "execution_count": 3,
   "metadata": {},
   "outputs": [
    {
     "name": "stdout",
     "output_type": "stream",
     "text": [
      "3\n"
     ]
    }
   ],
   "source": [
    "z = 1\n",
    "def f_fun(closure):\n",
    "    z = 3\n",
    "    def g_fun(closure):\n",
    "        z = closure[1]\n",
    "        print(z)\n",
    "    g = (g_fun, z)\n",
    "    return g\n",
    "f = (f_fun,)\n",
    "z = 5\n",
    "\n",
    "tmp1 = f[0](f)\n",
    "tmp1[0](tmp1)"
   ]
  },
  {
   "cell_type": "markdown",
   "metadata": {},
   "source": [
    "## Question 6\n",
    "\n",
    "Describe the steps of closure conversion."
   ]
  },
  {
   "attachments": {},
   "cell_type": "markdown",
   "metadata": {},
   "source": [
    "1. Modify the function definition to construct a close representation\n",
    "  - Our representation is a Tuple\n",
    "  - First value is a pointer to the function itself\n",
    "  - Later values are the values of the free variables from the function definition\n",
    "2. Modify the function itself to take the closue representation as an argunemnt and initiliaze closed-over variables  to the value they have in the closure representation\n",
    "  - Rename the function definition\n",
    "  - Change the arguments of the function to include the closure representation\n",
    "3. Modify the function calls of the form f(args...) to f[0](f, args...)"
   ]
  },
  {
   "cell_type": "markdown",
   "metadata": {},
   "source": [
    "## Question 7\n",
    "\n",
    "Describe the changes to the compiler required to implement closure conversion."
   ]
  },
  {
   "attachments": {},
   "cell_type": "markdown",
   "metadata": {},
   "source": [
    "Add one new pass after the second typechecker called `convert_to_closures`\n",
    "\n",
    "- Similar to RCO\n",
    "- Performs the transformation from Q6\n",
    "- In cc_stmt, for the function definition case, do the transformation descripbed above\n",
    "  - Find the free variables of the function definition\n",
    "  - Modify the function def (1st stmt)\n",
    "  - Construct the closure representation (2nd stmt)\n",
    "  - One solution: modify global list of functions that you know new name of the function is a function\n",
    "- In cc_expr, for the function call case, do the transformation described above\n",
    "  - Modify all functions calls to use a closure representation (even if they have no free variables)\n",
    "  \n",
    "\n",
    "Other changes:\n",
    "\n",
    "- Implement lexical scope in the typecheker (happens by default)\n",
    "- Before typechecker stores the names of all the functions\n",
    "- After: functions will be represented by closures\n",
    "\n",
    "Select instructions:\n",
    "- Variable case: Assign(x, Var(y)) when y is a function\n",
    "  - Before: turned into leaq instruction"
   ]
  },
  {
   "cell_type": "markdown",
   "metadata": {},
   "source": [
    "----\n",
    "# Dynamic Typing"
   ]
  },
  {
   "cell_type": "markdown",
   "metadata": {},
   "source": [
    "## Question 8\n",
    "\n",
    "Describe the challenge of compiling dynamically-typed programs into x86 assembly."
   ]
  },
  {
   "attachments": {},
   "cell_type": "markdown",
   "metadata": {},
   "source": [
    "In our current compiler, we rely on types in important ways:\n",
    "1. We disallow certain operations (e.g. add a number to a function)\n",
    "2. We produce different code depending on types (e.g for tuple variables or for functions)\n",
    "\n",
    "In a dynamically typed language:\n",
    "1. We might not know a variable's type at compile time\n",
    "2. In our current compiler, no type information attached to values at runtime."
   ]
  },
  {
   "cell_type": "markdown",
   "metadata": {},
   "source": [
    "## Question 9\n",
    "\n",
    "Describe an approach for compiling a dynamically-typed language `Ldyn` to x86 assembly."
   ]
  },
  {
   "attachments": {},
   "cell_type": "markdown",
   "metadata": {},
   "source": [
    "Introduce a gradual type languge `Lany`: In a gradually typed language, annotations are optional, and the `any` type can represent any type in the language. Python is a gradually-typed language (now).\n",
    "\n",
    "Compile `Ldyn` to `Lany` into x86 assembly code. The `Lany` language has the new type `any`, which represents any type.\n",
    "\n",
    "1. The `any` type  is the type of a *tagged value*. The value itself will have a tag attached to it that says *at runtime* what the type of the value is. (e.g we can use the tag to distinguish between a int and a bool)\n",
    "2. We introduce `inject` to convert a statically typed value into a value of type `any`. When it does the conversion, it adds the tag indicating that the tagged value has the statically-known type of the input.\n",
    "3. We introduce `project` to convert a value of type `any` into a statically typed value with a desired type. When it does the conversion `project` (1) checks at runtime that the tag on the input value matches the desied type, and exits if not; (2) removes the tag.\n",
    "\n",
    "Process:\n",
    "1. We compile `Ldyn` to `Lany` by adding `inject` and `project` operations.\n",
    "2. For each constant: use `inject` to convert the constant into a tagged `any` value.\n",
    "3. For each primitive: use `project` to convert the input to the correct expected types; use `inject` to convert the output to `any`.\n",
    "\n",
    "After we do this, we can actually run the static typechecker (after adding `any` as a type). Every variable will have the type `any`, and the program will typecheck."
   ]
  },
  {
   "attachments": {},
   "cell_type": "markdown",
   "metadata": {},
   "source": [
    "## Question 10\n",
    "\n",
    "Transform the following `Ldyn` program into an `Lany` program using `inject` and `project`.\n",
    "\n",
    "```py\n",
    "x = 5\n",
    "y = 6\n",
    "z = x + y\n",
    "```"
   ]
  },
  {
   "cell_type": "code",
   "execution_count": 3,
   "metadata": {},
   "outputs": [],
   "source": [
    "from typing import TypeVar\n",
    "T = TypeVar('T')\n",
    "\n",
    "from dataclasses import dataclass\n",
    "@dataclass\n",
    "class AnyVal:\n",
    "    val: any\n",
    "    tag: type\n",
    "\n",
    "def inject(val: T) -> AnyVal:\n",
    "    return AnyVal(val, type(val))\n",
    "\n",
    "def project(tagged_val: AnyVal, t: T) -> T:\n",
    "    if tagged_val.tag == t:\n",
    "        return tagged_val.val\n",
    "    else:\n",
    "        raise Exception('run-time type error!')"
   ]
  },
  {
   "cell_type": "code",
   "execution_count": 5,
   "metadata": {},
   "outputs": [
    {
     "data": {
      "text/plain": [
       "AnyVal(val=11, tag=<class 'int'>)"
      ]
     },
     "execution_count": 5,
     "metadata": {},
     "output_type": "execute_result"
    }
   ],
   "source": [
    "x = inject(5)\n",
    "y = inject(6)\n",
    "tmp1 = project(x, int)\n",
    "tmp2 = project(y, int)\n",
    "tmp3 = tmp1 + tmp2\n",
    "z = inject(tmp3)\n",
    "z"
   ]
  },
  {
   "cell_type": "markdown",
   "metadata": {},
   "source": [
    "## Question 11\n",
    "\n",
    "Describe the changes to the compiler for dynamic typing."
   ]
  },
  {
   "attachments": {},
   "cell_type": "markdown",
   "metadata": {},
   "source": [
    "Add the Any type to the typechecker (add as an AnyT dataclass); add typing for inject and project.\n",
    "\n",
    "Two new passes:\n",
    "1. `cast_insert`: adds the casts above (inject and project). Put it before the typecheker (because you can't typecheck a program that is dynamically typed). The output of this pass is `Lany`\n",
    "2. `reveal_casts` compiles the casts into lower-level primitives. Put it after RCO, because it introduces new control flow.\n",
    "\n",
    "Structure of both passes is similar to RCO.\n",
    "\n",
    "The reveal casts pass compiles project and inject:\n",
    "1. Project compiles into an if statement that checks if the tag is correct and returns the value if so; otherwise it exits the program.\n",
    "2. Inject compiles into the `make_any` primitive that attaches a tag (select instructions will compile it further)\n",
    "\n",
    "For part #1: use two primitives: `tag_of_any` and `value_of`\n",
    "- `tag_of` returns the tag of a vaue of type `Any`\n",
    "- `value_of` returns the value of a value of type `Any`\n",
    "\n",
    "For `x = project(y, int)`:\n",
    "We produce \n",
    "\n",
    "```py\n",
    "if tag_of(y) == 1:\n",
    "  x = value_of(y)\n",
    "else:\n",
    "  exit()\n",
    "```\n",
    "\n",
    "Can calculate the tag value at compile time (use the tag from section 10.2 in the book; convert to decimal values). We will deal with the three remaining new primitives in select instructions.\n"
   ]
  },
  {
   "cell_type": "markdown",
   "metadata": {},
   "source": [
    "## Question 12\n",
    "\n",
    "Write assembly language instructions for the following `Cany` statements. Reference Section 10.9 in the textbook.\n",
    "\n",
    "1. `x = make_any(5, 1)`\n",
    "2. `tmp_4 = tag_of(x)`\n",
    "3. `tmp_1 = value_of(x)`"
   ]
  },
  {
   "attachments": {},
   "cell_type": "markdown",
   "metadata": {},
   "source": [
    "We will compile these into assembly instructions in the select instructions pass (one new case in si_stmt per primitive).\n",
    "\n",
    "1. `make_any` adds the tag: shifts the value 3 bits to the left, then adds the tag to the value.\n",
    "\n",
    "`x = make_any(5, 1)`\n",
    "\n",
    "```\n",
    "salq $3, #x -- shift left by 3 bits\n",
    "orq $1, #x -- add the tag\n",
    "```\n",
    "\n",
    "2. `tag_of` gets JUST the tag piece of a tagged value\n",
    "\n",
    "`tmp_4 = tag_of(x)`\n",
    "\n",
    "```\n",
    "movq #x, %tmp_4 -- copy the tagged value to the destination\n",
    "addq $7, %tmp_4 -- erase everything except the tag (7 = 0b111)\n",
    "```\n",
    "\n",
    "3. `value_of` gets JUST the value piece of a tagged value\n",
    "\n",
    "`tmp_1 = value_of(x)`\n",
    "\n",
    "```\n",
    "movq #x, %tmp_1 -- copy the tagged value to the destination\n",
    "sarq $3, %tmp_1 -- shift right by 3 bits, erasing the tag\n",
    "```\n",
    "\n",
    "For the exit primitive, you can jump to `main_conclusion` (which is the end of the program)."
   ]
  },
  {
   "cell_type": "markdown",
   "metadata": {},
   "source": [
    "## Question 13\n",
    "\n",
    "What impact will these changes have on the performance of our compiled code? What would happen if we skipped this new code?"
   ]
  },
  {
   "attachments": {},
   "cell_type": "markdown",
   "metadata": {},
   "source": [
    "Think about a simple addition: `x = a + b`\n",
    "\n",
    "In our statically-typed language, this turns into a single addq instruction.\n",
    "\n",
    "In the dynamically-typed language, it turns into:\n",
    "- At least two if statement\n",
    "- At least three shifts\n",
    "\n",
    "Each of these extra operations adds overhead. What was 1 instruction now might be more like 10-20 instructions. This has a huge impact on performance, sometimes >10x.\n",
    "\n",
    "This is one reason dynamically-typed programing languages have a reputation for being slow. (the other is that they are often implemented using interpreters).\n",
    "\n",
    "This seems super bad! One implications is that you can view typing as a performance optimization.\n",
    "\n",
    "Options:\n",
    "1. skip checks. Outcome can be: operate on the byte-level representation of a value, while considering it to represent the wrong type. (e.g. f + 5 where f is a function) This is basically what C does.\n",
    "2. Use a fancy compiler, like a just-in-time compiler (JIT). A JIT compiles code to native x86 assembly *at runtime*. The reason is that at runtime, you know the values of all inputs to a piece of code. That means that you also know the types.\n",
    "\n",
    "So you can produce code without run-time checks, even for a dynamically-typed language."
   ]
  }
 ],
 "metadata": {
  "kernelspec": {
   "display_name": "Python 3 (ipykernel)",
   "language": "python",
   "name": "python3"
  },
  "language_info": {
   "codemirror_mode": {
    "name": "ipython",
    "version": 3
   },
   "file_extension": ".py",
   "mimetype": "text/x-python",
   "name": "python",
   "nbconvert_exporter": "python",
   "pygments_lexer": "ipython3",
   "version": "3.11.3"
  }
 },
 "nbformat": 4,
 "nbformat_minor": 4
}
