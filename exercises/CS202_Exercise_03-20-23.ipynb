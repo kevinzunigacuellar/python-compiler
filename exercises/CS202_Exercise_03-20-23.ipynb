{
 "cells": [
  {
   "cell_type": "markdown",
   "metadata": {},
   "source": [
    "# CS202: Compiler Construction\n",
    "\n",
    "## In-class Exercises, Week of 03/20/2023\n",
    "\n",
    "----"
   ]
  },
  {
   "cell_type": "markdown",
   "metadata": {},
   "source": [
    "# Part 1: While Loops"
   ]
  },
  {
   "cell_type": "markdown",
   "metadata": {},
   "source": [
    "## Question 1\n",
    "\n",
    "Compile the following program to $\\mathcal{C}_{if}$:\n",
    "\n",
    "```\n",
    "i = 10\n",
    "sum = 0\n",
    "while i > 0:\n",
    "    i = i - 1\n",
    "    sum = sum + i\n",
    "print(sum)\n",
    "```"
   ]
  },
  {
   "attachments": {},
   "cell_type": "markdown",
   "metadata": {},
   "source": [
    "output RCO:\n",
    "```\n",
    "i = 10\n",
    "sum = 0\n",
    "tmp_1 = i > 0\n",
    "while tmp_1:\n",
    "  (compiled statements here)\n",
    "```\n",
    "\n",
    "The problem in RCO is that we are not reevaluating the while expression. We already resolved the expression in the previous step and we are using the result of the expression. Hence, this will be an infinite loop.\n",
    "\n",
    "FIX:\n",
    "\n",
    "while begin(tmp_1 = i > 0):\n",
    "  (compiled statements here)\n",
    "end\n",
    "\n",
    "Cif code:\n",
    "```\n",
    "start\n",
    "  i = 10\n",
    "  sum = 0\n",
    "  goto while_test\n",
    "\n",
    "while_test:\n",
    "  if i > 0 goto while_body\n",
    "\n",
    "while_body:\n",
    "  i = i - 1\n",
    "  sum = sum + i\n",
    "  goto while_test\n",
    "\n",
    "cont:\n",
    "  print(sum)\n",
    "```"
   ]
  },
  {
   "cell_type": "markdown",
   "metadata": {},
   "source": [
    "## Question 2\n",
    "\n",
    "Compile the program above into pseudo-x86 assembly."
   ]
  },
  {
   "attachments": {},
   "cell_type": "markdown",
   "metadata": {},
   "source": [
    "```\n",
    "start\n",
    "  movq $10 #i\n",
    "  movq $0 #sum\n",
    "  jump while_test\n",
    "\n",
    "while_test:\n",
    "  cmpq $0, #i\n",
    "  jgt while_body\n",
    "  jmp cont\n",
    "\n",
    "while_body:\n",
    "  subq $1, #i\n",
    "  addq #i, #sum\n",
    "  jmp while_test\n",
    "\n",
    "cont:\n",
    "  movq #sum, %rdi\n",
    "  callq print_int\n",
    "```"
   ]
  },
  {
   "cell_type": "markdown",
   "metadata": {},
   "source": [
    "## Question 3\n",
    "\n",
    "Describe the major changes to the compiler, up to *select instructions*."
   ]
  },
  {
   "attachments": {},
   "cell_type": "markdown",
   "metadata": {},
   "source": [
    "No new passes\n",
    "\n",
    "\n",
    "- Typecheker\n",
    "  - Add a case for while loops\n",
    "  - condition better be a boolean\n",
    "  - statement better be well-typed\n",
    "- RCO\n",
    "  - Add a case for while loops\n",
    "  - run rco_stmts on the body statements\n",
    "  - hard: condition\n",
    "    problem: tmp vars created by rco_exp end up outside the loop\n",
    "    solution:\n",
    "    - construct new bindings just for the tmp vars associated with the condition\n",
    "    - package up resulting Assign statements in a begin exression\n",
    "      - cond_bindings = {}\n",
    "      - create a Begin node with list of assignments for everything un `cond_bindings`\n",
    "- Explicate control\n",
    "- new case: while(begin(cond_stmts, cond_exp), body_stmts)\n",
    "- create a loop-shaped control flow graph\n",
    "    - make a new block for the continuation (use create_block)\n",
    "    - make a new block for the condition (use create_block)\n",
    "    - make a new block for the body_stmts, with the continuation \"goto test_label\"\n",
    "    - cant use create_block to construct the final \n",
    "  \n",
    "\n",
    "- Select instructions: no changes"
   ]
  },
  {
   "cell_type": "markdown",
   "metadata": {},
   "source": [
    "# Part 2: Dataflow Analysis"
   ]
  },
  {
   "cell_type": "markdown",
   "metadata": {},
   "source": [
    "## Question 4\n",
    "\n",
    "Perform liveness analysis on the pseudo-x86 program from Question 2."
   ]
  },
  {
   "cell_type": "markdown",
   "metadata": {},
   "source": [
    "YOUR ANSWER HERE"
   ]
  },
  {
   "cell_type": "markdown",
   "metadata": {},
   "source": [
    "## Question 5\n",
    "\n",
    "Describe the idea of dataflow analysis on cyclic control-flow graphs."
   ]
  },
  {
   "cell_type": "markdown",
   "metadata": {},
   "source": [
    "YOUR ANSWER HERE"
   ]
  },
  {
   "cell_type": "markdown",
   "metadata": {},
   "source": [
    "## Question 6\n",
    "\n",
    "Use the dataflow-based approach to perform liveness analysis on the pseudo-x86 program above."
   ]
  },
  {
   "cell_type": "markdown",
   "metadata": {},
   "source": [
    "YOUR ANSWER HERE"
   ]
  },
  {
   "cell_type": "markdown",
   "metadata": {},
   "source": [
    "## Question 7\n",
    "\n",
    "How do we know the dataflow analysis will stop (i.e. not loop forever)?"
   ]
  },
  {
   "cell_type": "markdown",
   "metadata": {},
   "source": [
    "YOUR ANSWER HERE"
   ]
  },
  {
   "cell_type": "markdown",
   "metadata": {},
   "source": [
    "## Question 8\n",
    "\n",
    "What changes are required for the rest of the compiler?"
   ]
  },
  {
   "cell_type": "markdown",
   "metadata": {},
   "source": [
    "YOUR ANSWER HERE"
   ]
  }
 ],
 "metadata": {
  "kernelspec": {
   "display_name": "Python 3 (ipykernel)",
   "language": "python",
   "name": "python3"
  },
  "language_info": {
   "codemirror_mode": {
    "name": "ipython",
    "version": 3
   },
   "file_extension": ".py",
   "mimetype": "text/x-python",
   "name": "python",
   "nbconvert_exporter": "python",
   "pygments_lexer": "ipython3",
   "version": "3.10.0"
  }
 },
 "nbformat": 4,
 "nbformat_minor": 4
}
