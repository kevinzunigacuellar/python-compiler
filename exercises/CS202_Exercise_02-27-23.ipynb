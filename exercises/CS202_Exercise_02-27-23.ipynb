{
 "cells": [
  {
   "cell_type": "markdown",
   "metadata": {},
   "source": [
    "# CS202: Compiler Construction\n",
    "\n",
    "## In-class Exercises, Week of 02/27/2023\n",
    "\n",
    "----"
   ]
  },
  {
   "cell_type": "markdown",
   "metadata": {},
   "source": [
    "# RCO"
   ]
  },
  {
   "cell_type": "markdown",
   "metadata": {},
   "source": [
    "## Question 1\n",
    "\n",
    "How do we handle `if` statements in rco?"
   ]
  },
  {
   "cell_type": "markdown",
   "metadata": {},
   "source": [
    "If is not an operator; its arguments don't need to be atomic.\n",
    "\n",
    "- call rco_exp on the condition\n",
    "- call rco_stmts on the then and else statements"
   ]
  },
  {
   "cell_type": "markdown",
   "metadata": {},
   "source": [
    "----"
   ]
  },
  {
   "cell_type": "markdown",
   "metadata": {},
   "source": [
    "# Explicate-Control"
   ]
  },
  {
   "cell_type": "markdown",
   "metadata": {},
   "source": [
    "## Question 2\n",
    "\n",
    "Describe the idea behind the explicate-control pass."
   ]
  },
  {
   "cell_type": "markdown",
   "metadata": {},
   "source": [
    "The pass is designed to compile if statements into a control flow graph (gotos/jumps); not structural if statements.\n",
    "\n",
    "The output is in a intermediate language called `Cif`.\n",
    "\n",
    "- Similar to Python in most respects (expressions, statements)\n",
    "- Difference\n",
    "    - If statements must have gotos in then and else branches\n",
    "    - Program is represented by a dict mapping labels to list of statements (a control flow graph)\n",
    "\n",
    "Four pieces to consider when compiling an if statement:\n",
    "- the condition\n",
    "- the then branch (statements)\n",
    "- the else branch (statements)\n",
    "- the rest of the program (statements)\n",
    "  - this is called the continuation\n",
    "\n",
    "We will process the statements backwards, so the continuation is the first thing we process."
   ]
  },
  {
   "cell_type": "markdown",
   "metadata": {},
   "source": [
    "## Question 3\n",
    "\n",
    "Compile this program into a $C_{if}$ program, describing the input and output of explicate-control.\n",
    "\n",
    "```\n",
    "if 5 == 6:\n",
    "    print(1)\n",
    "else:\n",
    "    print(0)\n",
    "```"
   ]
  },
  {
   "cell_type": "markdown",
   "metadata": {},
   "source": [
    "```\n",
    "label_2: \n",
    "  return 0\n",
    "label_3:\n",
    "  print(1)\n",
    "  goto label_2\n",
    "label_4:\n",
    "  print(0)\n",
    "  goto label_2\n",
    "start: \n",
    "  tmp_1 eq(5,6)\n",
    "  if tmp_1: goto label_3 else: goto label_4\n",
    "```"
   ]
  },
  {
   "cell_type": "markdown",
   "metadata": {},
   "source": [
    "## Question 4\n",
    "\n",
    "Describe the structure of `explicate_control`."
   ]
  },
  {
   "cell_type": "markdown",
   "metadata": {},
   "source": [
    "Start by following the grammar \n",
    "\n",
    "- `ec_atml` this compiles an atomic expression into a Cif atom\n",
    "  - Constants -> cif.Constant\n",
    "  - Variables -> cif.Variable\n",
    "- `ec_expr` this compiles an expression into a Cif expression\n",
    "  - Prim(op, args) -> cif.Prim(op, args)\n",
    "  - else call `ec_atml`\n",
    "- `ec_stmt` takes a stmt and a continutation, returns a list of Cif statements\n",
    "  - Assign(x, e) => [cif.Assign(x, ec_expr(e))] + cont\n",
    "  - Print(e) => [cif.Print(ec_expr(e))] + cont\n",
    "  - If(condition, then_stmts, else_stmts) => \n",
    "    - cond_label = create a block for cont\n",
    "    - then_label = create a block for ec_stmts(then_stmts,[cif.Goto(cond_label)])\n",
    "    - else_label = create a block for ec_stmts(else_stmts,[cif.Goto(cond_label)])\n",
    "    - return [cif.If(ec_expr(condition), cif.Goto(then_label), cif.Goto(else_label))] + cont\n",
    "- `ec_stmts` takes a list of stmts and a continuation, returns a list of Cif statements\n",
    "    - process the list of the statements in reverse\n",
    "    - update \"current continuation\" by calling ec_stmt on each stmt and setting the continuation to whatever comes back\n",
    "    - start with the continuation: [cif.Return(0)]\n",
    "    - call ec_stmts on the statements of the program\n",
    "    - set basic_blocks ['start'] to the result\n",
    "- pass should have a \"global\" basic_blocks: Dict[str, List[cif.Stmt]]\n",
    "\n",
    "- pass should jave a create_block function that adds a new block to basic_blocks with a unique name (using gensym)"
   ]
  },
  {
   "cell_type": "markdown",
   "metadata": {},
   "source": [
    "----"
   ]
  },
  {
   "cell_type": "markdown",
   "metadata": {},
   "source": [
    "# Select Instructions"
   ]
  },
  {
   "cell_type": "markdown",
   "metadata": {},
   "source": [
    "## Question 5\n",
    "\n",
    "Describe the new cases in `select_instructions`."
   ]
  },
  {
   "attachments": {},
   "cell_type": "markdown",
   "metadata": {},
   "source": [
    "New cases:\n",
    "\n",
    "Textbook section 5.8 for details.\n",
    "\n",
    "- `Assign(x, Prim(op, [a1, a2]))` and `op` is a comparison primitive:\n",
    "    - cmpq a2,a1 (compares a1 to a2, sets Eflags register; make sure that a1 and a2 are ordered 'backwards')\n",
    "    - set[cc] %al (sets bytes register %a1 to the value of EFLAGS)\n",
    "        - cc is the condition code for the desired comparison op\n",
    "        - eq(==): e, gt(>): g, gte(>=): ge, lt(<): l, lte(<=): le\n",
    "    - `movzbq %al, #x` (moves byte into a 64-int location)\n",
    "- `If(condition, Goto(label1), Goto(label2))`\n",
    "    - cmpq condition, $1\n",
    "    - je label1\n",
    "    - jmp label2\n",
    "- `Assign(x, Prim('not', [a1]))`\n",
    "    - movq a1, #x\n",
    "    - xorq $1, #x\n",
    "- `Prim('not', [a1])`\n",
    "- `Return(a1)`\n",
    "    - movq a1, %rax\n",
    "    - jmp conclusion\n",
    "- `Goto(label)` => `jmp label`"
   ]
  },
  {
   "cell_type": "markdown",
   "metadata": {},
   "source": [
    "----"
   ]
  },
  {
   "cell_type": "markdown",
   "metadata": {},
   "source": [
    "# Register Allocation"
   ]
  },
  {
   "cell_type": "markdown",
   "metadata": {},
   "source": [
    "## Question 6\n",
    "\n",
    "Describe the liveness analysis for a control-flow graph."
   ]
  },
  {
   "attachments": {},
   "cell_type": "markdown",
   "metadata": {},
   "source": [
    "- Challenge: now I have many blocks, and jumps between them; a variable might be read in a block I am jumping to, so its better remain live \"across\" the jump\n",
    "\n",
    "- Means I can't consider each block in isolation, I need to look at all blocks at once\n",
    "- Treat things that might get read by the block I'm jumping to as things "
   ]
  },
  {
   "cell_type": "markdown",
   "metadata": {},
   "source": [
    "## Question 7\n",
    "\n",
    "Here is an x86 assembly program. Compute its live-after sets.\n",
    "\n",
    "```\n",
    "start:\n",
    "  movq $42, #x\n",
    "  cmpq $6, $5\n",
    "  je label_2\n",
    "  jmp label_3\n",
    "label_2:\n",
    "  addq $3, #x\n",
    "  jmp conclusion\n",
    "label_3:\n",
    "  addq $4, #x\n",
    "  jmp conclusion\n",
    "```"
   ]
  },
  {
   "attachments": {},
   "cell_type": "markdown",
   "metadata": {},
   "source": [
    "When I find a jump instruction, computer the live-after set for the target, and the live-before set for the target, and treat the live-before set as the variables read by the jump.\n",
    "\n",
    "the `conclusion` block always has the empty live-after set\n",
    "\n",
    "```\n",
    "start:          {}\n",
    "  movq $42, #x  {x}\n",
    "  cmpq $6, $5   {x}\n",
    "  je label_2    {x}\n",
    "  jmp label_3   {}\n",
    "label_2:          {x} live-before set for label_2\n",
    "  addq $3, #x     {}\n",
    "  jmp conclusion  {}\n",
    "label_3:          {x} live-before set for label_3\n",
    "  addq $4, #x     {}\n",
    "  jmp conclusion  {}\n",
    "```\n",
    "\n",
    "- Global dict that remember the list of live-before sets for each block\n",
    "- Global dict that remembers the list of live-after sets for each block"
   ]
  },
  {
   "cell_type": "markdown",
   "metadata": {},
   "source": [
    "## Question 8\n",
    "\n",
    "Describe the change to building the interference graph."
   ]
  },
  {
   "attachments": {},
   "cell_type": "markdown",
   "metadata": {},
   "source": [
    "No change"
   ]
  },
  {
   "cell_type": "markdown",
   "metadata": {},
   "source": [
    "## Question 9\n",
    "\n",
    "Describe the change to graph coloring and assigning homes."
   ]
  },
  {
   "attachments": {},
   "cell_type": "markdown",
   "metadata": {},
   "source": [
    "No change"
   ]
  },
  {
   "cell_type": "markdown",
   "metadata": {},
   "source": [
    "----"
   ]
  },
  {
   "cell_type": "markdown",
   "metadata": {},
   "source": [
    "# Patch Instructions"
   ]
  },
  {
   "cell_type": "markdown",
   "metadata": {},
   "source": [
    "## Question 10\n",
    "\n",
    "Describe the changes to patch_instructions."
   ]
  },
  {
   "attachments": {},
   "cell_type": "markdown",
   "metadata": {},
   "source": [
    "cmpq instruction is now a special case"
   ]
  },
  {
   "cell_type": "markdown",
   "metadata": {},
   "source": [
    "----"
   ]
  },
  {
   "cell_type": "markdown",
   "metadata": {},
   "source": [
    "# Prelude & Conclusion\n"
   ]
  },
  {
   "cell_type": "markdown",
   "metadata": {},
   "source": [
    "## Question 11\n",
    "\n",
    "Describe the changes to prelude_and_conclusion."
   ]
  },
  {
   "attachments": {},
   "cell_type": "markdown",
   "metadata": {},
   "source": [
    "Prelude goes in main\n",
    "Conclusion code goes in conclusion"
   ]
  }
 ],
 "metadata": {
  "kernelspec": {
   "display_name": "Python 3 (ipykernel)",
   "language": "python",
   "name": "python3"
  },
  "language_info": {
   "codemirror_mode": {
    "name": "ipython",
    "version": 3
   },
   "file_extension": ".py",
   "mimetype": "text/x-python",
   "name": "python",
   "nbconvert_exporter": "python",
   "pygments_lexer": "ipython3",
   "version": "3.10.10"
  },
  "vscode": {
   "interpreter": {
    "hash": "3919e158b663b4f135c01bdef1ce511b0f917d636d01220fa5e2993c18769e50"
   }
  }
 },
 "nbformat": 4,
 "nbformat_minor": 4
}
