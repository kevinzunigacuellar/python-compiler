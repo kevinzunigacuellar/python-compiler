{
 "cells": [
  {
   "cell_type": "markdown",
   "metadata": {},
   "source": [
    "# CS202: Compiler Construction\n",
    "\n",
    "## In-class Exercises, Week of 02/06/2023\n",
    "\n",
    "----"
   ]
  },
  {
   "cell_type": "markdown",
   "metadata": {},
   "source": [
    "# Register allocation\n",
    "\n",
    "*Register allocation* is the process of assigning register locations to program variables."
   ]
  },
  {
   "cell_type": "markdown",
   "metadata": {},
   "source": [
    "## Question 1\n",
    "\n",
    "Why is register allocation important?"
   ]
  },
  {
   "attachments": {},
   "cell_type": "markdown",
   "metadata": {},
   "source": [
    "Register allocation is maybe the biggest optimization there is. Registers are much faster than memory. If you can keep your variables in registers, you can make your program run much faster."
   ]
  },
  {
   "cell_type": "markdown",
   "metadata": {},
   "source": [
    "## Question 2\n",
    "\n",
    "Consider the program:\n",
    "\n",
    "```\n",
    "x = 5\n",
    "y = x + 6\n",
    "y + 7\n",
    "```\n",
    "\n",
    "Here is the equivalent in x86 assembly, using the stack to hold variable values.\n",
    "\n",
    "```\n",
    "...\n",
    "start:\n",
    "  movq $5, -8(%rbp)\n",
    "  movq -8(%rbp), %rax\n",
    "  movq %rax, -16(%rbp)\n",
    "  addq $6, -16(%rbp)\n",
    "  movq -16(%rbp), %rax\n",
    "  movq %rax, -24(%rbp)\n",
    "  addq $7, -24(%rbp)\n",
    "  movq -24(%rbp), %rax\n",
    "  jmp conclusion\n",
    "...\n",
    "```\n",
    "\n",
    "Convert this program into one that only uses registers."
   ]
  },
  {
   "attachments": {},
   "cell_type": "markdown",
   "metadata": {},
   "source": [
    "Let's assign each stack location to a register instead, ad find-and-replace.\n",
    "\n",
    "- -8 -> r8\n",
    "- -16 -> r9\n",
    "- -24 -> r10\n",
    "\n",
    "```\n",
    "  movq $5, %r8\n",
    "  movq %r8, %rax\n",
    "  movq %rax, %r9\n",
    "  addq $6, %r9\n",
    "  movq %r9, %rax\n",
    "  movq %rax,%r10\n",
    "  addq $7,%r10\n",
    "  movq%r10, %rax\n",
    "  jmp conclusion\n",
    "```"
   ]
  },
  {
   "cell_type": "markdown",
   "metadata": {},
   "source": [
    "## Question 3\n",
    "\n",
    "How many registers are *actually needed* to represent this program?"
   ]
  },
  {
   "attachments": {},
   "cell_type": "markdown",
   "metadata": {},
   "source": [
    "For this exercise we actually needed only 1 register because all the variables can share one location without interfering with each other."
   ]
  },
  {
   "cell_type": "markdown",
   "metadata": {},
   "source": [
    "## Question 4\n",
    "\n",
    "Why is *optimal* register allocation hard?"
   ]
  },
  {
   "attachments": {},
   "cell_type": "markdown",
   "metadata": {},
   "source": [
    "Optimal register allocation is NP-complete.\n",
    "\n",
    "We need an approximately optimal soution that runs in a reasonable amount of time (quadratic time is fine)"
   ]
  },
  {
   "cell_type": "markdown",
   "metadata": {},
   "source": [
    "## Note\n",
    "\n",
    "Our solution to register allocation will involve three parts:\n",
    "\n",
    "1. [*Liveness analysis*](https://en.wikipedia.org/wiki/Live_variable_analysis), to understand when a variable's value is no longer needed\n",
    "2. Building an *interference graph* with edges between variables that cannot share a register\n",
    "3. Allocating registers to variables by *coloring the interference graph* ([graph coloring](https://en.wikipedia.org/wiki/Graph_coloring) is NP-hard)"
   ]
  },
  {
   "cell_type": "markdown",
   "metadata": {},
   "source": [
    "----"
   ]
  },
  {
   "cell_type": "markdown",
   "metadata": {},
   "source": [
    "# Liveness Analysis\n",
    "\n",
    "The first part of the allocate-registers pass performs a *liveness analysis* on the program."
   ]
  },
  {
   "cell_type": "markdown",
   "metadata": {},
   "source": [
    "## Question 5\n",
    "\n",
    "Here is the pseudo-x86 equivalent of the program from earlier, written in x86 assembly syntax:\n",
    "\n",
    "```\n",
    "start:\n",
    " movq $5, x\n",
    " movq x, y\n",
    " addq $6, y\n",
    " movq y, r\n",
    " addq $7, r\n",
    " movq r, %rax\n",
    "```\n",
    "\n",
    "In the table below, annotate each instruction with its *live-after set*.\n",
    "\n",
    "Use the following rule to determine the live-after set for instruction $k$:\n",
    "\n",
    "\\begin{align}\n",
    "L_{after}(k) = (L_{after}(k+1) − W (k+1)) \\cup R(k+1)\n",
    "\\end{align}\n",
    "\n",
    "where $W$ means the variables written by the instruction, and $R$ means the variables read by an instruction. See section 3.2 in the textbook for more."
   ]
  },
  {
   "attachments": {},
   "cell_type": "markdown",
   "metadata": {},
   "source": [
    "**Solution**:\n",
    "\n",
    "| Instruction     | Live-After Set |\n",
    "| :-------------- | :------------- |\n",
    "| `start:`        |    |\n",
    "| `movq $5, x`    |  {x}  |\n",
    "| `movq x, y`     |  {y}  |\n",
    "| `addq $6, y`    |  {y}  |\n",
    "| `movq y, r`     |  {r}  |\n",
    "| `addq $7, r`    |  {r}  |\n",
    "| `movq r, %rax`  |  {}  |"
   ]
  },
  {
   "cell_type": "markdown",
   "metadata": {},
   "source": [
    "## Question 6\n",
    "\n",
    "Describe the liveness analysis in the compiler."
   ]
  },
  {
   "attachments": {},
   "cell_type": "markdown",
   "metadata": {},
   "source": [
    "- Proces the instructions in reverse order\n",
    "- Start with empty live-after set\n",
    "- Produce the next live-after set using the previous one based on the rule above\n",
    "\n",
    "----\n",
    "- `ul_instr` given a instuction k+1, and the live-after set for instruction k+1, produce the live-after set for instruction k\n",
    "- `ul_block`:\n",
    "  - start with empty list of live-after sets\n",
    "  - start with empty current live-after set\n",
    "  - loop over instructions in reverse order\n",
    "    - call `ul_instr` to get the next live-after set\n",
    "    - add it to the list\n",
    "  - at the end, reverse the list of live-after sets and return it"
   ]
  },
  {
   "cell_type": "markdown",
   "metadata": {},
   "source": [
    "----"
   ]
  },
  {
   "cell_type": "markdown",
   "metadata": {},
   "source": [
    "# Interference Graph\n",
    "\n",
    "The second part of the allocate-registers pass will build an *interference graph* using the live-after sets computed earlier. The interference graph is an undirected graph with a node for each program variable, and an edge between each pair of variables which may *not* share a home."
   ]
  },
  {
   "cell_type": "markdown",
   "metadata": {},
   "source": [
    "## Question 7\n",
    "\n",
    "Using the instructions and live-after sets from question 5, draw the interference graph.\n",
    "\n",
    "Use the following principle: *the writes performed by an instruction must not overwrite something in a live location*."
   ]
  },
  {
   "attachments": {},
   "cell_type": "markdown",
   "metadata": {},
   "source": [
    "The interference graph has no edges, hence all the variables can share the same register."
   ]
  },
  {
   "cell_type": "markdown",
   "metadata": {},
   "source": [
    "## Question 8\n",
    "\n",
    "Using the instructions and live-after sets below, draw the interference graph.\n",
    "\n",
    "| Instruction    | Live-After Set |\n",
    "| :------------- | :------------- |\n",
    "| `start:`       | {} |\n",
    "| `movq $1, a`   | {a}|\n",
    "| `movq $2, b`   | {a, b} |\n",
    "| `movq $3, c`   | {a, b, c} |\n",
    "| `movq a, t`    | {b, c, t} |\n",
    "| `addq b, t`    | {c, t} |\n",
    "| `movq t, r`    | {c, r} |\n",
    "| `addq c, r`    | {r} |\n",
    "| `movq r, %rax` | {}  |\n"
   ]
  },
  {
   "attachments": {},
   "cell_type": "markdown",
   "metadata": {},
   "source": [
    "Edges are:\n",
    "- a - b\n",
    "- b - c\n",
    "- b - t\n",
    "- c - t\n",
    "- c - r\n",
    "- a - c"
   ]
  },
  {
   "cell_type": "markdown",
   "metadata": {},
   "source": [
    "## Question 9\n",
    "\n",
    "What variables in the above graph can share a register? What variables can't?"
   ]
  },
  {
   "attachments": {},
   "cell_type": "markdown",
   "metadata": {},
   "source": [
    "- A and C can share a register\n",
    "- B and T can share a register\n",
    "- R cannot share a register with any other variable\n",
    "- B and C cannot share a register"
   ]
  }
 ],
 "metadata": {
  "kernelspec": {
   "display_name": "env",
   "language": "python",
   "name": "python3"
  },
  "language_info": {
   "codemirror_mode": {
    "name": "ipython",
    "version": 3
   },
   "file_extension": ".py",
   "mimetype": "text/x-python",
   "name": "python",
   "nbconvert_exporter": "python",
   "pygments_lexer": "ipython3",
   "version": "3.10.10"
  },
  "vscode": {
   "interpreter": {
    "hash": "3919e158b663b4f135c01bdef1ce511b0f917d636d01220fa5e2993c18769e50"
   }
  }
 },
 "nbformat": 4,
 "nbformat_minor": 4
}
