{
 "cells": [
  {
   "cell_type": "markdown",
   "metadata": {},
   "source": [
    "# CS202: Compiler Construction\n",
    "\n",
    "## In-class Exercises, Week of 03/20/2023\n",
    "\n",
    "----"
   ]
  },
  {
   "cell_type": "markdown",
   "metadata": {},
   "source": [
    "# Part 1: While Loops"
   ]
  },
  {
   "cell_type": "markdown",
   "metadata": {},
   "source": [
    "## Question 1\n",
    "\n",
    "Compile the following program to $\\mathcal{C}_{if}$:\n",
    "\n",
    "```\n",
    "i = 10\n",
    "sum = 0\n",
    "while i > 0:\n",
    "    i = i - 1\n",
    "    sum = sum + i\n",
    "print(sum)\n",
    "```"
   ]
  },
  {
   "cell_type": "markdown",
   "metadata": {},
   "source": [
    "<u>Output of RCO</u>\n",
    "```\n",
    "i = 10\n",
    "sum = 0\n",
    "tmp1 = i > 0\n",
    "while tmp1:\n",
    "    tmp2 = i - 1\n",
    "    i = tmp2\n",
    "    tmp3 = sum + i\n",
    "    sum = tmp3\n",
    "    \n",
    "print(sim)\n",
    "```\n",
    "This means we'll have to do something special in rco\n",
    "\n",
    "<u>Cif Version:</u>\n",
    "```\n",
    "start:\n",
    "    i = 10\n",
    "    sum = 0\n",
    "    goto while_test\n",
    "    \n",
    "while_test:\n",
    "    if i > 0 then got while_body else goto continuation\n",
    "    \n",
    "while_body:\n",
    "    i = i - 1\n",
    "    sum = sum + i\n",
    "    goto while_test\n",
    "    \n",
    "continuation:\n",
    "    print(sum)\n",
    "```"
   ]
  },
  {
   "cell_type": "markdown",
   "metadata": {},
   "source": [
    "## Question 2\n",
    "\n",
    "Compile the program above into pseudo-x86 assembly."
   ]
  },
  {
   "cell_type": "markdown",
   "metadata": {},
   "source": [
    "```\n",
    "start:\n",
    "    i = 10\n",
    "    sum = 0\n",
    "    jmp while_test\n",
    "    \n",
    "while_test:\n",
    "    cmpq $0, #i\n",
    "    jqt while_body\n",
    "    jmp cont\n",
    "    \n",
    "while_body:\n",
    "    subq $1, #i\n",
    "    addq #i, #sum\n",
    "    jmp while_test\n",
    "    \n",
    "continuation:\n",
    "    movq #sum, %rdi\n",
    "    callq print_int\n",
    "```"
   ]
  },
  {
   "cell_type": "markdown",
   "metadata": {},
   "source": [
    "## Question 3\n",
    "\n",
    "Describe the major changes to the compiler, up to *select instructions*."
   ]
  },
  {
   "cell_type": "markdown",
   "metadata": {},
   "source": [
    "- <u>No new passes</u>\n",
    "\n",
    "- <u>Typechecker</u>\n",
    "    - Add a case for while-loops\n",
    "        - Condition must be a boolean\n",
    "        - Statements must be well-typed\n",
    "\n",
    "- <u>RCO</u>\n",
    "    - Add a case for while-loop\n",
    "        - Easy part: run rco_stmts on the body statements of the loop\n",
    "        - Hard part: condition\n",
    "            - Problem: tmp vars created by rco_exp end up outside of the loop\n",
    "            - Solution:\n",
    "                - Construct brand-new bindings just for the tmp vars associated with the condition\n",
    "                - Package up resulting Assign statements into a Begin expression\n",
    "                    - condition_bindings = {}\n",
    "                    - new_condition_exp = rco_exp(condition, condition_bindings)\n",
    "                    - create a Begin node with a list of assignment statements for everything in `condition_bindings` and the expression `new_condition_exp`\n",
    "\n",
    "- <u>Explicate control</u>\n",
    "    - New Case: While(Begin(condition_stmts, condition_exp), body_stmts)\n",
    "        - Create a loop-shaped control flow graph\n",
    "            - Make a new block for the continuation (use create_block)\n",
    "            - Make a new block for the condition using the label `test_label` (use create_block)\n",
    "            - Make a new block for the body statements with the continuation `goto test_label` \n",
    "            - Can't use create block to construct the final one\n",
    "        - Two big differences with `if`\n",
    "            - We need an explicit test block\n",
    "            - We can't use create_block for every block we make, because we need to create a cycle in the CFG\n",
    "        - Process:\n",
    "            - `continuation_label = ` use `create_block` to add `continuation` to the CFG\n",
    "            - `test_label = gensym(\"loop_label\")`\n",
    "            - `body_label = ` use `create_block` to add the result of compiling `body_stmts` to the CFG (like the `then` case for `if`). Continuation should be: `[cif.Goto(test_label)]`\n",
    "            - Compile the test\n",
    "                - Let continuation be `[cif.If(explicate_exp(condition_exp), cif.Goto(body_label), cif.Goto(continuation_label)`\n",
    "                - Compile condition_stmts with this continuation\n",
    "                - `basic_blocks[test_label] = ` result from above\n",
    "    \n",
    "            - Return the new continuation `[cif.Goto(test_label)]`\n",
    "- <u>Select-Instructions</u>\n",
    "    - No changes"
   ]
  },
  {
   "cell_type": "markdown",
   "metadata": {},
   "source": [
    "# Part 2: Dataflow Analysis"
   ]
  },
  {
   "cell_type": "markdown",
   "metadata": {},
   "source": [
    "## Question 4\n",
    "\n",
    "Perform liveness analysis on the pseudo-x86 program from Question 2."
   ]
  },
  {
   "cell_type": "markdown",
   "metadata": {},
   "source": [
    "Attempt: use the approach from Assignment 3. When we find a jump, go do liveness analysis on the target to get its live-before set.\n",
    "\n",
    "```\n",
    "start:\n",
    "    i = 10\n",
    "    sum = 0        \n",
    "    jmp while_test 1{/}\n",
    "    \n",
    "while_test:\n",
    "    cmpq $0, #i    \n",
    "    jqt while_body 6{sum}\n",
    "    jmp cont       2{/}\n",
    "    \n",
    "while_body:\n",
    "    subq $1, #i\n",
    "    addq #i, #sum  8{} # gets stuck in a loop trying to calculate the live-before set for while_test\n",
    "    jmp while_test 7{/}\n",
    "    \n",
    "continuation:       5{sum}\n",
    "    movq #sum, %rdi 4{/}\n",
    "    callq print_int 3{/}\n",
    "```\n",
    "\n",
    "Problem: to compute live-before of while_test, we need live-before of while_body and vice-versa "
   ]
  },
  {
   "cell_type": "markdown",
   "metadata": {},
   "source": [
    "## Question 5\n",
    "\n",
    "Describe the idea of dataflow analysis on cyclic control-flow graphs."
   ]
  },
  {
   "cell_type": "markdown",
   "metadata": {},
   "source": [
    "1. Compute the live-after sets for each block without worrying about jumps (assume all live-before sets are empty). This is an under-approximation of the true live-after sets.\n",
    "2. Update the live-before sets based on the results from #1\n",
    "3. Run #1 again until the live-after sets don't change at all. This is called a _fixpoint_"
   ]
  },
  {
   "cell_type": "markdown",
   "metadata": {},
   "source": [
    "## Question 6\n",
    "\n",
    "Use the dataflow-based approach to perform liveness analysis on the pseudo-x86 program above."
   ]
  },
  {
   "cell_type": "markdown",
   "metadata": {},
   "source": [
    "\n",
    "\n",
    "Change to the liveness analysis in the compiler:\n",
    "- Add a ul_fixpoint function\n",
    "    - while-loop\n",
    "        - Make a copy od the current live-after sets\n",
    "        - Run `ul_block` on each block of the program\n",
    "        - Exit the while-loop if the live-after sets are the same as the copy\n",
    "- Initialize live-before sets to be empty for all blocks\n",
    "- Remove the call to `ul_block` in the jmp case"
   ]
  },
  {
   "cell_type": "markdown",
   "metadata": {},
   "source": [
    "## Question 7\n",
    "\n",
    "How do we know the dataflow analysis will stop (i.e. not loop forever)?"
   ]
  },
  {
   "cell_type": "markdown",
   "metadata": {},
   "source": []
  },
  {
   "cell_type": "markdown",
   "metadata": {},
   "source": [
    "## Question 8\n",
    "\n",
    "What changes are required for the rest of the compiler?"
   ]
  },
  {
   "cell_type": "markdown",
   "metadata": {},
   "source": [
    "YOUR ANSWER HERE"
   ]
  }
 ],
 "metadata": {
  "kernelspec": {
   "display_name": "Python 3 (ipykernel)",
   "language": "python",
   "name": "python3"
  },
  "language_info": {
   "codemirror_mode": {
    "name": "ipython",
    "version": 3
   },
   "file_extension": ".py",
   "mimetype": "text/x-python",
   "name": "python",
   "nbconvert_exporter": "python",
   "pygments_lexer": "ipython3",
   "version": "3.10.9"
  }
 },
 "nbformat": 4,
 "nbformat_minor": 4
}
